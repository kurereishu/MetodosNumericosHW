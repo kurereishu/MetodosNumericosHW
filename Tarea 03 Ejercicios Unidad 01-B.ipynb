{
 "cells": [
  {
   "cell_type": "markdown",
   "id": "1badd96d",
   "metadata": {},
   "source": [
    "### 1. Utilice aritmética de corte de tres dígitos para calcular las siguientes sumas. Para cada parte, ¿qué método es más preciso y por qué?\n",
    "\n",
    "a. $\\sum_{i=1}^{10} \\left( \\frac{1}{i^2} \\right)$ primero por $ \\frac{1}{1} + \\frac{1}{4} +\\cdot\\cdot\\cdot + \\frac{1}{100}$ y luego por $\\frac{1}{100} + \\frac{1}{81} + \\cdot\\cdot\\cdot + \\frac{1}{1}$\n",
    "\n",
    "b. $\\sum_{i=1}^{10} \\left( \\frac{1}{i^3} \\right)$ primero por $\\frac{1}{1} + \\frac{1}{8} + \\frac{1}{27} + \\ldots +\\frac{1}{1000}$ y luego por $\\frac{1}{1000}+\\frac{1}{729}+\\ldots+\\frac{1}{1}$\n"
   ]
  },
  {
   "cell_type": "markdown",
   "id": "d9b138ab",
   "metadata": {},
   "source": [
    "# Pseudocódigo\n",
    "### FUNCIÓN suma_ascendente(n):\n",
    "    suma = 0\n",
    "    PARA i DESDE 1 HASTA n:\n",
    "        término = 1 / (i^3)\n",
    "        término = redondear_a_3_dígitos(término)\n",
    "        suma = suma + término\n",
    "        suma = redondear_a_3_dígitos(suma)\n",
    "    DEVOLVER suma\n",
    "\n",
    "### FUNCIÓN suma_descendente(n):\n",
    "    suma = 0\n",
    "    PARA i DESDE n HASTA 1, PASO -1:\n",
    "        término = 1 / (i^3)\n",
    "        término = redondear_a_3_dígitos(término)\n",
    "        suma = suma + término\n",
    "        suma = redondear_a_3_dígitos(suma)\n",
    "    DEVOLVER suma\n",
    "\n"
   ]
  },
  {
   "cell_type": "markdown",
   "id": "03af5514",
   "metadata": {},
   "source": [
    "# Código en PYTHON"
   ]
  },
  {
   "cell_type": "code",
   "execution_count": 5,
   "id": "35b72b37",
   "metadata": {},
   "outputs": [
    {
     "name": "stdout",
     "output_type": "stream",
     "text": [
      "Suma ascendente: 1.198\n",
      "Suma descendente: 1.198\n"
     ]
    }
   ],
   "source": [
    "def round_to_3_digits(x):\n",
    "    return round(x, 3)\n",
    "\n",
    "def suma_ascendente(n):\n",
    "    suma = 0.0\n",
    "    for i in range(1, n + 1):\n",
    "        term = 1.0 / (i ** 3)\n",
    "        term = round_to_3_digits(term)\n",
    "        suma += term\n",
    "        suma = round_to_3_digits(suma)\n",
    "    return suma\n",
    "\n",
    "def suma_descendente(n):\n",
    "    suma = 0.0\n",
    "    for i in range(n, 0, -1):\n",
    "        term = 1.0 / (i ** 3)\n",
    "        term = round_to_3_digits(term)\n",
    "        suma += term\n",
    "        suma = round_to_3_digits(suma)\n",
    "    return suma\n",
    "\n",
    "# Ejemplo para n = 10\n",
    "n = 10\n",
    "print(\"Suma ascendente:\", suma_ascendente(n))\n",
    "print(\"Suma descendente:\", suma_descendente(n))\n"
   ]
  },
  {
   "cell_type": "markdown",
   "id": "00f2b3c4",
   "metadata": {},
   "source": [
    "### 2. La serie de Maclaurin para la función arctangente converge para -1 $\\leq x \\leq 1$ y está dada por\n",
    "\n",
    "$ \\arctan x = \\lim_{n \\to \\infty} P_n(x) = \\lim_{n \\to \\infty} \\sum_{i=1}^{n} (-1)^{i+1} \\frac{x^{2i-1}}{2i-1} $\n",
    "    \n",
    "Utilice el hecho de que $\\tan \\frac{\\pi}{4} = 1$ para determinar el número $(n)$ de términos de la serie que se necesita sumar para garantizar que $|4P_n(1) - \\pi| < 10^{-3}$\n",
    "        \\item El lenguaje de programación C++ requiere que el valor de $pi$ se encuentre dentro de $10^{-10}$. ¿Cuántos términos de la serie se necesitarían sumar para obtener este grado de precisión?"
   ]
  },
  {
   "cell_type": "markdown",
   "id": "c4d59ea6",
   "metadata": {},
   "source": [
    "### Pseudocódigo\n",
    "### FUNCIÓN arctan_series(x, n):\n",
    "    suma = 0\n",
    "    PARA i DESDE 1 HASTA n:\n",
    "        término = (-1)^(i+1) * x^(2i-1) / (2i-1)\n",
    "        suma = suma + término\n",
    "    DEVOLVER suma\n",
    "\n",
    "### FUNCIÓN encontrar_n_para_precision(x, precision_deseada):\n",
    "    n = 1\n",
    "    MIENTRAS VERDADERO:\n",
    "        aproximación = 4 * arctan_series(x, n)\n",
    "        error = |aproximación - π|\n",
    "        SI error < precision_deseada ENTONCES\n",
    "            DEVOLVER n\n",
    "        SI NO:\n",
    "            n = n + 1\n"
   ]
  },
  {
   "cell_type": "markdown",
   "id": "96453df1",
   "metadata": {},
   "source": [
    "### Código en PYTHON"
   ]
  },
  {
   "cell_type": "code",
   "execution_count": 7,
   "id": "6f6d3a66",
   "metadata": {},
   "outputs": [
    {
     "name": "stdout",
     "output_type": "stream",
     "text": [
      "Número de términos para precisión 10^-3: 1000\n"
     ]
    },
    {
     "ename": "KeyboardInterrupt",
     "evalue": "",
     "output_type": "error",
     "traceback": [
      "\u001b[1;31m---------------------------------------------------------------------------\u001b[0m",
      "\u001b[1;31mKeyboardInterrupt\u001b[0m                         Traceback (most recent call last)",
      "Cell \u001b[1;32mIn[7], line 25\u001b[0m\n\u001b[0;32m     22\u001b[0m \u001b[38;5;28mprint\u001b[39m(\u001b[38;5;124mf\u001b[39m\u001b[38;5;124m\"\u001b[39m\u001b[38;5;124mNúmero de términos para precisión 10^-3: \u001b[39m\u001b[38;5;132;01m{\u001b[39;00mn_para_10_3\u001b[38;5;132;01m}\u001b[39;00m\u001b[38;5;124m\"\u001b[39m)\n\u001b[0;32m     24\u001b[0m \u001b[38;5;66;03m# Parte (b): Precisión 10^-10\u001b[39;00m\n\u001b[1;32m---> 25\u001b[0m n_para_10_10 \u001b[38;5;241m=\u001b[39m encontrar_n_para_precision(\u001b[38;5;241m1\u001b[39m, \u001b[38;5;241m1e-10\u001b[39m)\n\u001b[0;32m     26\u001b[0m \u001b[38;5;28mprint\u001b[39m(\u001b[38;5;124mf\u001b[39m\u001b[38;5;124m\"\u001b[39m\u001b[38;5;124mNúmero de términos para precisión 10^-10: \u001b[39m\u001b[38;5;132;01m{\u001b[39;00mn_para_10_10\u001b[38;5;132;01m}\u001b[39;00m\u001b[38;5;124m\"\u001b[39m)\n",
      "Cell \u001b[1;32mIn[7], line 13\u001b[0m, in \u001b[0;36mencontrar_n_para_precision\u001b[1;34m(x, precision_deseada)\u001b[0m\n\u001b[0;32m     11\u001b[0m n \u001b[38;5;241m=\u001b[39m \u001b[38;5;241m1\u001b[39m\n\u001b[0;32m     12\u001b[0m \u001b[38;5;28;01mwhile\u001b[39;00m \u001b[38;5;28;01mTrue\u001b[39;00m:\n\u001b[1;32m---> 13\u001b[0m     aproximacion \u001b[38;5;241m=\u001b[39m \u001b[38;5;241m4\u001b[39m \u001b[38;5;241m*\u001b[39m arctan_series(x, n)\n\u001b[0;32m     14\u001b[0m     error \u001b[38;5;241m=\u001b[39m \u001b[38;5;28mabs\u001b[39m(aproximacion \u001b[38;5;241m-\u001b[39m math\u001b[38;5;241m.\u001b[39mpi)\n\u001b[0;32m     15\u001b[0m     \u001b[38;5;28;01mif\u001b[39;00m error \u001b[38;5;241m<\u001b[39m precision_deseada:\n",
      "Cell \u001b[1;32mIn[7], line 7\u001b[0m, in \u001b[0;36marctan_series\u001b[1;34m(x, n)\u001b[0m\n\u001b[0;32m      5\u001b[0m \u001b[38;5;28;01mfor\u001b[39;00m i \u001b[38;5;129;01min\u001b[39;00m \u001b[38;5;28mrange\u001b[39m(\u001b[38;5;241m1\u001b[39m, n \u001b[38;5;241m+\u001b[39m \u001b[38;5;241m1\u001b[39m):\n\u001b[0;32m      6\u001b[0m     term \u001b[38;5;241m=\u001b[39m ((\u001b[38;5;241m-\u001b[39m\u001b[38;5;241m1\u001b[39m) \u001b[38;5;241m*\u001b[39m\u001b[38;5;241m*\u001b[39m (i \u001b[38;5;241m+\u001b[39m \u001b[38;5;241m1\u001b[39m)) \u001b[38;5;241m*\u001b[39m (x \u001b[38;5;241m*\u001b[39m\u001b[38;5;241m*\u001b[39m (\u001b[38;5;241m2\u001b[39m \u001b[38;5;241m*\u001b[39m i \u001b[38;5;241m-\u001b[39m \u001b[38;5;241m1\u001b[39m)) \u001b[38;5;241m/\u001b[39m (\u001b[38;5;241m2\u001b[39m \u001b[38;5;241m*\u001b[39m i \u001b[38;5;241m-\u001b[39m \u001b[38;5;241m1\u001b[39m)\n\u001b[1;32m----> 7\u001b[0m     suma \u001b[38;5;241m+\u001b[39m\u001b[38;5;241m=\u001b[39m term\n\u001b[0;32m      8\u001b[0m \u001b[38;5;28;01mreturn\u001b[39;00m suma\n",
      "\u001b[1;31mKeyboardInterrupt\u001b[0m: "
     ]
    }
   ],
   "source": [
    "import math\n",
    "\n",
    "def arctan_series(x, n):\n",
    "    suma = 0.0\n",
    "    for i in range(1, n + 1):\n",
    "        term = ((-1) ** (i + 1)) * (x ** (2 * i - 1)) / (2 * i - 1)\n",
    "        suma += term\n",
    "    return suma\n",
    "\n",
    "def encontrar_n_para_precision(x, precision_deseada):\n",
    "    n = 1\n",
    "    while True:\n",
    "        aproximacion = 4 * arctan_series(x, n)\n",
    "        error = abs(aproximacion - math.pi)\n",
    "        if error < precision_deseada:\n",
    "            return n\n",
    "        else:\n",
    "            n += 1\n",
    "\n",
    "# Parte (a): Precisión 10^-3\n",
    "n_para_10_3 = encontrar_n_para_precision(1, 1e-3)\n",
    "print(f\"Número de términos para precisión 10^-3: {n_para_10_3}\")\n",
    "\n",
    "# Parte (b): Precisión 10^-10\n",
    "n_para_10_10 = encontrar_n_para_precision(1, 1e-10)\n",
    "print(f\"Número de términos para precisión 10^-10: {n_para_10_10}\")"
   ]
  },
  {
   "cell_type": "markdown",
   "id": "79877c04",
   "metadata": {},
   "source": [
    "### 3. Otra fórmula para calcular $\\pi$ se puede deducir a partir de la identidad $\\frac{\\pi}{4}=4\\arctan\\frac{1}{5}-\\arctan\\frac{1}{239}$. Determine el número de términos que se deben sumar para garantizar una aproximación $\\pi$ dentro de $10^{-3}$"
   ]
  },
  {
   "cell_type": "markdown",
   "id": "8d4ccbf7",
   "metadata": {},
   "source": [
    "### Pseudocódigo completo para aproximar π con la fórmula de Machin\n",
    "\n",
    "```plaintext\n",
    "FUNCIÓN arctan_serie(x, n):\n",
    "    suma = 0.0\n",
    "    PARA i = 1 HASTA n HACER:\n",
    "        término = (-1)^(i+1) * x^(2i-1) / (2i-1)\n",
    "        suma = suma + término\n",
    "    FIN PARA\n",
    "    DEVOLVER suma\n",
    "FIN FUNCIÓN\n",
    "\n",
    "FUNCIÓN aproximar_pi(n):\n",
    "    term1 = arctan_serie(1/5, n)\n",
    "    term2 = arctan_serie(1/239, n)\n",
    "    pi_aprox = 16*term1 - 4*term2\n",
    "    DEVOLVER pi_aprox\n",
    "FIN FUNCIÓN\n",
    "\n",
    "FUNCIÓN calcular_terminos(precision):\n",
    "    n = 1\n",
    "    MIENTRAS VERDADERO HACER:\n",
    "        pi_est = aproximar_pi(n)\n",
    "        error = ABS(pi_est - π_real)\n",
    "        SI error < precision ENTONCES:\n",
    "            DEVOLVER n\n",
    "        FIN SI\n",
    "        n = n + 1\n",
    "    FIN MIENTRAS\n",
    "FIN FUNCIÓN\n",
    "\n",
    "ALGORITMO principal:\n",
    "    precision_deseada = 1e-3\n",
    "    n_minimo = calcular_terminos(precision_deseada)\n",
    "    pi_calculado = aproximar_pi(n_minimo)\n",
    "    \n",
    "    IMPRIMIR \"Para precisión de\", precision_deseada\n",
    "    IMPRIMIR \"Se necesitan\", n_minimo, \"términos\"\n",
    "    IMPRIMIR \"π ≈\", pi_calculado\n",
    "    IMPRIMIR \"Error:\", ABS(pi_calculado - π_real)\n",
    "FIN ALGORITMO"
   ]
  },
  {
   "cell_type": "markdown",
   "id": "a361daae",
   "metadata": {},
   "source": [
    "### Código en PYTHON"
   ]
  },
  {
   "cell_type": "code",
   "execution_count": 8,
   "id": "2459c2d2",
   "metadata": {},
   "outputs": [
    {
     "name": "stdout",
     "output_type": "stream",
     "text": [
      "Número de términos necesarios para precisión 10^-3: 2\n",
      "Aproximación de π con 2 términos: 3.1405970293260603\n",
      "Valor real de π: 3.141592653589793\n",
      "Error: 0.0009956242637327861\n"
     ]
    }
   ],
   "source": [
    "import math\n",
    "\n",
    "def arctan_series(x, n):\n",
    "    \"\"\"Calcula arctan(x) usando n términos de la serie de Maclaurin.\"\"\"\n",
    "    suma = 0.0\n",
    "    for i in range(1, n + 1):\n",
    "        term = ((-1) ** (i + 1)) * (x ** (2 * i - 1)) / (2 * i - 1)\n",
    "        suma += term\n",
    "    return suma\n",
    "\n",
    "def calcular_pi(n):\n",
    "    \"\"\"Aproxima pi usando la fórmula de Machin con n términos.\"\"\"\n",
    "    arctan_1_5 = arctan_series(1/5, n)\n",
    "    arctan_1_239 = arctan_series(1/239, n)\n",
    "    return 16 * arctan_1_5 - 4 * arctan_1_239\n",
    "\n",
    "def encontrar_n_para_precision(precision_deseada):\n",
    "    \"\"\"Encuentra el mínimo n para alcanzar la precisión deseada.\"\"\"\n",
    "    n = 1\n",
    "    while True:\n",
    "        pi_aprox = calcular_pi(n)\n",
    "        error = abs(pi_aprox - math.pi)\n",
    "        if error < precision_deseada:\n",
    "            return n\n",
    "        n += 1\n",
    "\n",
    "# Ejemplo: Precisión de 10^-3\n",
    "precision_deseada = 1e-3\n",
    "n_requerido = encontrar_n_para_precision(precision_deseada)\n",
    "print(f\"Número de términos necesarios para precisión 10^-3: {n_requerido}\")\n",
    "print(f\"Aproximación de π con {n_requerido} términos: {calcular_pi(n_requerido)}\")\n",
    "print(f\"Valor real de π: {math.pi}\")\n",
    "print(f\"Error: {abs(calcular_pi(n_requerido) - math.pi)}\")"
   ]
  }
 ],
 "metadata": {
  "kernelspec": {
   "display_name": "base",
   "language": "python",
   "name": "python3"
  },
  "language_info": {
   "codemirror_mode": {
    "name": "ipython",
    "version": 3
   },
   "file_extension": ".py",
   "mimetype": "text/x-python",
   "name": "python",
   "nbconvert_exporter": "python",
   "pygments_lexer": "ipython3",
   "version": "3.12.7"
  }
 },
 "nbformat": 4,
 "nbformat_minor": 5
}
