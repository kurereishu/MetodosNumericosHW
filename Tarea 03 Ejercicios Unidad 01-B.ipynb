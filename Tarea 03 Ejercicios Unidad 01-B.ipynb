{
 "cells": [
  {
   "cell_type": "markdown",
   "id": "1badd96d",
   "metadata": {},
   "source": [
    "1. Utilice aritmética de corte de tres dígitos para calcular las siguientes sumas. Para cada parte, ¿qué método es \n",
    "más preciso y por qué? \n"
   ]
  }
 ],
 "metadata": {
  "language_info": {
   "name": "python"
  }
 },
 "nbformat": 4,
 "nbformat_minor": 5
}
