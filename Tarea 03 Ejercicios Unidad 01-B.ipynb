{
 "cells": [
  {
   "cell_type": "markdown",
   "id": "1badd96d",
   "metadata": {},
   "source": [
    "### 1. Utilice aritmética de corte de tres dígitos para calcular las siguientes sumas. Para cada parte, ¿qué método es más preciso y por qué?\n",
    "\n",
    "a. $\\sum_{i=1}^{10} \\left( \\frac{1}{i^2} \\right)$ primero por $ \\frac{1}{1} + \\frac{1}{4} +\\cdot\\cdot\\cdot + \\frac{1}{100}$ y luego por $\\frac{1}{100} + \\frac{1}{81} + \\cdot\\cdot\\cdot + \\frac{1}{1}$\n",
    "\n",
    "b. $\\sum_{i=1}^{10} \\left( \\frac{1}{i^3} \\right)$ primero por $\\frac{1}{1} + \\frac{1}{8} + \\frac{1}{27} + \\ldots +\\frac{1}{1000}$ y luego por $\\frac{1}{1000}+\\frac{1}{729}+\\ldots+\\frac{1}{1}$\n"
   ]
  },
  {
   "cell_type": "markdown",
   "id": "d9b138ab",
   "metadata": {},
   "source": [
    "# Pseudocódigo\n",
    "### FUNCIÓN suma_ascendente(n):\n",
    "    suma = 0\n",
    "    PARA i DESDE 1 HASTA n:\n",
    "        término = 1 / (i^3)\n",
    "        término = redondear_a_3_dígitos(término)\n",
    "        suma = suma + término\n",
    "        suma = redondear_a_3_dígitos(suma)\n",
    "    DEVOLVER suma\n",
    "\n",
    "### FUNCIÓN suma_descendente(n):\n",
    "    suma = 0\n",
    "    PARA i DESDE n HASTA 1, PASO -1:\n",
    "        término = 1 / (i^3)\n",
    "        término = redondear_a_3_dígitos(término)\n",
    "        suma = suma + término\n",
    "        suma = redondear_a_3_dígitos(suma)\n",
    "    DEVOLVER suma\n",
    "\n"
   ]
  },
  {
   "cell_type": "markdown",
   "id": "03af5514",
   "metadata": {},
   "source": [
    "# Código en PYTHON"
   ]
  },
  {
   "cell_type": "code",
   "execution_count": 5,
   "id": "35b72b37",
   "metadata": {},
   "outputs": [
    {
     "name": "stdout",
     "output_type": "stream",
     "text": [
      "Suma ascendente: 1.198\n",
      "Suma descendente: 1.198\n"
     ]
    }
   ],
   "source": [
    "def round_to_3_digits(x):\n",
    "    return round(x, 3)\n",
    "\n",
    "def suma_ascendente(n):\n",
    "    suma = 0.0\n",
    "    for i in range(1, n + 1):\n",
    "        term = 1.0 / (i ** 3)\n",
    "        term = round_to_3_digits(term)\n",
    "        suma += term\n",
    "        suma = round_to_3_digits(suma)\n",
    "    return suma\n",
    "\n",
    "def suma_descendente(n):\n",
    "    suma = 0.0\n",
    "    for i in range(n, 0, -1):\n",
    "        term = 1.0 / (i ** 3)\n",
    "        term = round_to_3_digits(term)\n",
    "        suma += term\n",
    "        suma = round_to_3_digits(suma)\n",
    "    return suma\n",
    "\n",
    "# Ejemplo para n = 10\n",
    "n = 10\n",
    "print(\"Suma ascendente:\", suma_ascendente(n))\n",
    "print(\"Suma descendente:\", suma_descendente(n))\n"
   ]
  },
  {
   "cell_type": "markdown",
   "id": "00f2b3c4",
   "metadata": {},
   "source": [
    "### 2. La serie de Maclaurin para la función arctangente converge para -1 $\\leq x \\leq 1$ y está dada por\n",
    "\n",
    "$ \\arctan x = \\lim_{n \\to \\infty} P_n(x) = \\lim_{n \\to \\infty} \\sum_{i=1}^{n} (-1)^{i+1} \\frac{x^{2i-1}}{2i-1} $\n",
    "    \n",
    "Utilice el hecho de que $\\tan \\frac{\\pi}{4} = 1$ para determinar el número $(n)$ de términos de la serie que se necesita sumar para garantizar que $|4P_n(1) - \\pi| < 10^{-3}$\n",
    "        \\item El lenguaje de programación C++ requiere que el valor de $pi$ se encuentre dentro de $10^{-10}$. ¿Cuántos términos de la serie se necesitarían sumar para obtener este grado de precisión?"
   ]
  },
  {
   "cell_type": "markdown",
   "id": "c4d59ea6",
   "metadata": {},
   "source": [
    "### Pseudocódigo\n",
    "### FUNCIÓN arctan_series(x, n):\n",
    "    suma = 0\n",
    "    PARA i DESDE 1 HASTA n:\n",
    "        término = (-1)^(i+1) * x^(2i-1) / (2i-1)\n",
    "        suma = suma + término\n",
    "    DEVOLVER suma\n",
    "\n",
    "### FUNCIÓN encontrar_n_para_precision(x, precision_deseada):\n",
    "    n = 1\n",
    "    MIENTRAS VERDADERO:\n",
    "        aproximación = 4 * arctan_series(x, n)\n",
    "        error = |aproximación - π|\n",
    "        SI error < precision_deseada ENTONCES\n",
    "            DEVOLVER n\n",
    "        SI NO:\n",
    "            n = n + 1\n"
   ]
  },
  {
   "cell_type": "markdown",
   "id": "96453df1",
   "metadata": {},
   "source": [
    "### Código en PYTHON"
   ]
  },
  {
   "cell_type": "code",
   "execution_count": 7,
   "id": "6f6d3a66",
   "metadata": {},
   "outputs": [
    {
     "name": "stdout",
     "output_type": "stream",
     "text": [
      "Número de términos para precisión 10^-3: 1000\n"
     ]
    },
    {
     "ename": "KeyboardInterrupt",
     "evalue": "",
     "output_type": "error",
     "traceback": [
      "\u001b[1;31m---------------------------------------------------------------------------\u001b[0m",
      "\u001b[1;31mKeyboardInterrupt\u001b[0m                         Traceback (most recent call last)",
      "Cell \u001b[1;32mIn[7], line 25\u001b[0m\n\u001b[0;32m     22\u001b[0m \u001b[38;5;28mprint\u001b[39m(\u001b[38;5;124mf\u001b[39m\u001b[38;5;124m\"\u001b[39m\u001b[38;5;124mNúmero de términos para precisión 10^-3: \u001b[39m\u001b[38;5;132;01m{\u001b[39;00mn_para_10_3\u001b[38;5;132;01m}\u001b[39;00m\u001b[38;5;124m\"\u001b[39m)\n\u001b[0;32m     24\u001b[0m \u001b[38;5;66;03m# Parte (b): Precisión 10^-10\u001b[39;00m\n\u001b[1;32m---> 25\u001b[0m n_para_10_10 \u001b[38;5;241m=\u001b[39m encontrar_n_para_precision(\u001b[38;5;241m1\u001b[39m, \u001b[38;5;241m1e-10\u001b[39m)\n\u001b[0;32m     26\u001b[0m \u001b[38;5;28mprint\u001b[39m(\u001b[38;5;124mf\u001b[39m\u001b[38;5;124m\"\u001b[39m\u001b[38;5;124mNúmero de términos para precisión 10^-10: \u001b[39m\u001b[38;5;132;01m{\u001b[39;00mn_para_10_10\u001b[38;5;132;01m}\u001b[39;00m\u001b[38;5;124m\"\u001b[39m)\n",
      "Cell \u001b[1;32mIn[7], line 13\u001b[0m, in \u001b[0;36mencontrar_n_para_precision\u001b[1;34m(x, precision_deseada)\u001b[0m\n\u001b[0;32m     11\u001b[0m n \u001b[38;5;241m=\u001b[39m \u001b[38;5;241m1\u001b[39m\n\u001b[0;32m     12\u001b[0m \u001b[38;5;28;01mwhile\u001b[39;00m \u001b[38;5;28;01mTrue\u001b[39;00m:\n\u001b[1;32m---> 13\u001b[0m     aproximacion \u001b[38;5;241m=\u001b[39m \u001b[38;5;241m4\u001b[39m \u001b[38;5;241m*\u001b[39m arctan_series(x, n)\n\u001b[0;32m     14\u001b[0m     error \u001b[38;5;241m=\u001b[39m \u001b[38;5;28mabs\u001b[39m(aproximacion \u001b[38;5;241m-\u001b[39m math\u001b[38;5;241m.\u001b[39mpi)\n\u001b[0;32m     15\u001b[0m     \u001b[38;5;28;01mif\u001b[39;00m error \u001b[38;5;241m<\u001b[39m precision_deseada:\n",
      "Cell \u001b[1;32mIn[7], line 7\u001b[0m, in \u001b[0;36marctan_series\u001b[1;34m(x, n)\u001b[0m\n\u001b[0;32m      5\u001b[0m \u001b[38;5;28;01mfor\u001b[39;00m i \u001b[38;5;129;01min\u001b[39;00m \u001b[38;5;28mrange\u001b[39m(\u001b[38;5;241m1\u001b[39m, n \u001b[38;5;241m+\u001b[39m \u001b[38;5;241m1\u001b[39m):\n\u001b[0;32m      6\u001b[0m     term \u001b[38;5;241m=\u001b[39m ((\u001b[38;5;241m-\u001b[39m\u001b[38;5;241m1\u001b[39m) \u001b[38;5;241m*\u001b[39m\u001b[38;5;241m*\u001b[39m (i \u001b[38;5;241m+\u001b[39m \u001b[38;5;241m1\u001b[39m)) \u001b[38;5;241m*\u001b[39m (x \u001b[38;5;241m*\u001b[39m\u001b[38;5;241m*\u001b[39m (\u001b[38;5;241m2\u001b[39m \u001b[38;5;241m*\u001b[39m i \u001b[38;5;241m-\u001b[39m \u001b[38;5;241m1\u001b[39m)) \u001b[38;5;241m/\u001b[39m (\u001b[38;5;241m2\u001b[39m \u001b[38;5;241m*\u001b[39m i \u001b[38;5;241m-\u001b[39m \u001b[38;5;241m1\u001b[39m)\n\u001b[1;32m----> 7\u001b[0m     suma \u001b[38;5;241m+\u001b[39m\u001b[38;5;241m=\u001b[39m term\n\u001b[0;32m      8\u001b[0m \u001b[38;5;28;01mreturn\u001b[39;00m suma\n",
      "\u001b[1;31mKeyboardInterrupt\u001b[0m: "
     ]
    }
   ],
   "source": [
    "import math\n",
    "\n",
    "def arctan_series(x, n):\n",
    "    suma = 0.0\n",
    "    for i in range(1, n + 1):\n",
    "        term = ((-1) ** (i + 1)) * (x ** (2 * i - 1)) / (2 * i - 1)\n",
    "        suma += term\n",
    "    return suma\n",
    "\n",
    "def encontrar_n_para_precision(x, precision_deseada):\n",
    "    n = 1\n",
    "    while True:\n",
    "        aproximacion = 4 * arctan_series(x, n)\n",
    "        error = abs(aproximacion - math.pi)\n",
    "        if error < precision_deseada:\n",
    "            return n\n",
    "        else:\n",
    "            n += 1\n",
    "\n",
    "# Parte (a): Precisión 10^-3\n",
    "n_para_10_3 = encontrar_n_para_precision(1, 1e-3)\n",
    "print(f\"Número de términos para precisión 10^-3: {n_para_10_3}\")\n",
    "\n",
    "# Parte (b): Precisión 10^-10\n",
    "n_para_10_10 = encontrar_n_para_precision(1, 1e-10)\n",
    "print(f\"Número de términos para precisión 10^-10: {n_para_10_10}\")"
   ]
  },
  {
   "cell_type": "markdown",
   "id": "79877c04",
   "metadata": {},
   "source": [
    "### 3. Otra fórmula para calcular $\\pi$ se puede deducir a partir de la identidad $\\frac{\\pi}{4}=4\\arctan\\frac{1}{5}-\\arctan\\frac{1}{239}$. Determine el número de términos que se deben sumar para garantizar una aproximación $\\pi$ dentro de $10^{-3}$"
   ]
  },
  {
   "cell_type": "markdown",
   "id": "8d4ccbf7",
   "metadata": {},
   "source": [
    "### Pseudocódigo completo para aproximar π con la fórmula de Machin\n",
    "\n",
    "```plaintext\n",
    "FUNCIÓN arctan_serie(x, n):\n",
    "    suma = 0.0\n",
    "    PARA i = 1 HASTA n HACER:\n",
    "        término = (-1)^(i+1) * x^(2i-1) / (2i-1)\n",
    "        suma = suma + término\n",
    "    FIN PARA\n",
    "    DEVOLVER suma\n",
    "FIN FUNCIÓN\n",
    "\n",
    "FUNCIÓN aproximar_pi(n):\n",
    "    term1 = arctan_serie(1/5, n)\n",
    "    term2 = arctan_serie(1/239, n)\n",
    "    pi_aprox = 16*term1 - 4*term2\n",
    "    DEVOLVER pi_aprox\n",
    "FIN FUNCIÓN\n",
    "\n",
    "FUNCIÓN calcular_terminos(precision):\n",
    "    n = 1\n",
    "    MIENTRAS VERDADERO HACER:\n",
    "        pi_est = aproximar_pi(n)\n",
    "        error = ABS(pi_est - π_real)\n",
    "        SI error < precision ENTONCES:\n",
    "            DEVOLVER n\n",
    "        FIN SI\n",
    "        n = n + 1\n",
    "    FIN MIENTRAS\n",
    "FIN FUNCIÓN\n",
    "\n",
    "ALGORITMO principal:\n",
    "    precision_deseada = 1e-3\n",
    "    n_minimo = calcular_terminos(precision_deseada)\n",
    "    pi_calculado = aproximar_pi(n_minimo)\n",
    "    \n",
    "    IMPRIMIR \"Para precisión de\", precision_deseada\n",
    "    IMPRIMIR \"Se necesitan\", n_minimo, \"términos\"\n",
    "    IMPRIMIR \"π ≈\", pi_calculado\n",
    "    IMPRIMIR \"Error:\", ABS(pi_calculado - π_real)\n",
    "FIN ALGORITMO"
   ]
  },
  {
   "cell_type": "markdown",
   "id": "a361daae",
   "metadata": {},
   "source": [
    "### Código en PYTHON"
   ]
  },
  {
   "cell_type": "code",
   "execution_count": null,
   "id": "2459c2d2",
   "metadata": {},
   "outputs": [
    {
     "name": "stdout",
     "output_type": "stream",
     "text": [
      "Número de términos necesarios para precisión 10^-3: 2\n",
      "Aproximación de π con 2 términos: 3.1405970293260603\n",
      "Valor real de π: 3.141592653589793\n",
      "Error: 0.0009956242637327861\n"
     ]
    }
   ],
   "source": []
  },
  {
   "cell_type": "markdown",
   "id": "6db66472",
   "metadata": {},
   "source": [
    "### 4. Compare los siguientes tres algoritmos. ¿Cuándo es correcto el algoritmo de la parte 1a?\n",
    "        \n",
    "        (a) ENTRADA n, x1, x2, ..., xn.\n",
    "        SALIDA PRODUCT.\n",
    "        Paso 1 Determine PRODUCT = 0.\n",
    "        Paso 2 Para i = 1, 2, ..., n haga\n",
    "            Determine PRODUCT = PRODUCT * xi.\n",
    "        Paso 3 SALIDA PRODUCT;\n",
    "        PARE.\n",
    "        \n",
    "        (b) ENTRADA n, x1, x2, ..., xn.\n",
    "        SALIDA PRODUCT.\n",
    "        Paso 1 Determine PRODUCT = 1.\n",
    "        Paso 2 Para i = 1, 2, ..., n haga\n",
    "            Si xi $\\neq 0$ entonces determine PRODUCT =0;\n",
    "            PARE;\n",
    "            Sino determine\n",
    "                Determine PRODUCT = PRODUCT * xi.\n",
    "        Paso 3 SALIDA PRODUCT;\n",
    "        PARE.\n",
    "        \n",
    "        (c) ENTRADA n, x1, x2, ..., xn.\n",
    "        SALIDA PRODUCT.\n",
    "        Paso 1 Determine PRODUCT = 1.\n",
    "        Paso 2 Para i = 1, ..., n haga\n",
    "        Determine PRODUCT = PRODUCT * xi.\n",
    "        Paso 3 SALIDA PRODUCT;\n",
    "        PARE."
   ]
  },
  {
   "cell_type": "markdown",
   "id": "f7dfb8e7",
   "metadata": {},
   "source": [
    "### Pseudocódigo\n",
    "(a)\n",
    "1. ENTRADA n, x1, x2, ..., xn\n",
    "2. SALIDA PRODUCT\n",
    "3. PRODUCT = 0\n",
    "4. PARA i = 1 HASTA n HACER:\n",
    "   5. PRODUCT = PRODUCT * xi\n",
    "6. SALIDA PRODUCT\n",
    "7. PARE\n",
    "\n",
    "(b)\n",
    "1. ENTRADA n, x1, x2, ..., xn\n",
    "2. SALIDA PRODUCT\n",
    "3. PRODUCT = 1\n",
    "4. PARA i = 1 HASTA n HACER:\n",
    "   5. SI xi ≠ 0 ENTONCES:\n",
    "      6. PRODUCT = 0\n",
    "      7. PARE\n",
    "   8. SINO:\n",
    "      9. PRODUCT = PRODUCT * xi\n",
    "10. SALIDA PRODUCT\n",
    "11. PARE\n",
    "\n",
    "(c)\n",
    "1. ENTRADA n, x1, x2, ..., xn\n",
    "2. SALIDA PRODUCT\n",
    "3. PRODUCT = 1\n",
    "4. PARA i = 1 HASTA n HACER:\n",
    "   5. PRODUCT = PRODUCT * xi\n",
    "6. SALIDA PRODUCT\n",
    "7. PARE"
   ]
  },
  {
   "cell_type": "markdown",
   "id": "a1f44efe",
   "metadata": {},
   "source": [
    "### Código en PYTHON"
   ]
  },
  {
   "cell_type": "code",
   "execution_count": 10,
   "id": "7d2cb3fc",
   "metadata": {},
   "outputs": [
    {
     "name": "stdout",
     "output_type": "stream",
     "text": [
      "1a: 0\n",
      "1b: 0\n",
      "1c: 24\n"
     ]
    }
   ],
   "source": [
    "def algoritmo_1a(xs):\n",
    "    product = 0\n",
    "    for x in xs:\n",
    "        product *= x\n",
    "    return product\n",
    "\n",
    "def algoritmo_1b(xs):\n",
    "    product = 1\n",
    "    for x in xs:\n",
    "        if x != 0:\n",
    "            product = 0\n",
    "            break\n",
    "        product *= x\n",
    "    return product\n",
    "\n",
    "def algoritmo_1c(xs):\n",
    "    product = 1\n",
    "    for x in xs:\n",
    "        product *= x\n",
    "    return product\n",
    "\n",
    "# Ejemplos de uso\n",
    "nums = [2, 3, 4]\n",
    "print(\"1a:\", algoritmo_1a(nums))  # Siempre devuelve 0\n",
    "print(\"1b:\", algoritmo_1b(nums))  # Comportamiento extraño\n",
    "print(\"1c:\", algoritmo_1c(nums))  # Correcto: 24"
   ]
  },
  {
   "cell_type": "markdown",
   "id": "e9601062",
   "metadata": {},
   "source": [
    "### 5. a) ¿Cuántas multiplicaciones y sumas se requieren para determinar una suma de la forma $\\sum_{i=1}^n \\sum_{j=1}^ia_ib_j$?.\n",
    "### b. Modifique la suma en la parte a) a un formato equivalente que reduzca el número de cálculos."
   ]
  },
  {
   "cell_type": "markdown",
   "id": "f5b9a7d6",
   "metadata": {},
   "source": [
    "### Pseudocódigo\n",
    "Parte (a)\n",
    "1. ENTRADA n, a[1..n], b[1..n]\n",
    "2. SALIDA suma_total\n",
    "3. suma_total = 0\n",
    "4. PARA i = 1 HASTA n HACER:\n",
    "   5. PARA j = 1 HASTA i HACER:\n",
    "      6. suma_total = suma_total + (a[i] * b[j])\n",
    "7. SALIDA suma_total\n",
    "8. PARE\n",
    "\n",
    "Parte (b)\n",
    "1. ENTRADA n, a[1..n], b[1..n]\n",
    "2. SALIDA suma_total\n",
    "3. suma_total = 0\n",
    "4. suma_parcial = 0\n",
    "5. PARA i = 1 HASTA n HACER:\n",
    "   6. suma_parcial = suma_parcial + b[i]\n",
    "   7. suma_total = suma_total + (a[i] * suma_parcial)\n",
    "8. SALIDA suma_total\n",
    "9. PARE"
   ]
  },
  {
   "cell_type": "code",
   "execution_count": 11,
   "id": "20cab648",
   "metadata": {},
   "outputs": [],
   "source": [
    "def suma_doble_bucle(n, a, b):\n",
    "    suma = 0\n",
    "    for i in range(n):\n",
    "        for j in range(i+1):\n",
    "            suma += a[i] * b[j]\n",
    "    return suma"
   ]
  },
  {
   "cell_type": "code",
   "execution_count": 12,
   "id": "b82ecbba",
   "metadata": {},
   "outputs": [],
   "source": [
    "def suma_optimizada(n, a, b):\n",
    "    suma_total = 0\n",
    "    suma_parcial = 0\n",
    "    for i in range(n):\n",
    "        suma_parcial += b[i]\n",
    "        suma_total += a[i] * suma_parcial\n",
    "    return suma_total"
   ]
  },
  {
   "cell_type": "markdown",
   "id": "13888fbd",
   "metadata": {},
   "source": [
    "# DISCUSIONES\n",
    "### 1. Escriba un algoritmo para sumar la serie finita $\\sum_{i=1}^{n} x_i$ en orden inverso.\n",
    "\n",
    "1. def suma_inversa(x):\n",
    "2. S = 0\n",
    "3. for i in range(len(x) - 1, -1, -1):  # desde n-1 hasta 0\n",
    "4. S += x[i]\n",
    "5. return S\n",
    "\n",
    "Ejemplo:\n",
    "1. x = [1, 2, 3, 4, 5]  # x1 = 1, ..., x5 = 5\n",
    "2. print(\"Suma inversa:\", suma_inversa(x))"
   ]
  },
  {
   "cell_type": "markdown",
   "id": "f9c78296",
   "metadata": {},
   "source": [
    "### Código en PYTHON"
   ]
  },
  {
   "cell_type": "code",
   "execution_count": 14,
   "id": "1b6fadb0",
   "metadata": {},
   "outputs": [
    {
     "name": "stdout",
     "output_type": "stream",
     "text": [
      "Suma inversa: 15\n"
     ]
    }
   ],
   "source": [
    "def suma_inversa(x):\n",
    "    S = 0\n",
    "    for i in range(len(x) - 1, -1, -1):  # Itera desde el último índice hasta el primero\n",
    "        S += x[i]\n",
    "    return S\n",
    "\n",
    "# Ejemplo de uso\n",
    "if __name__ == \"__main__\":\n",
    "    x = [1, 2, 3, 4, 5]  # x1 = 1, x2 = 2, ..., x5 = 5\n",
    "    print(\"Suma inversa:\", suma_inversa(x))  # Devuelve 5 + 4 + 3 + 2 + 1 = 15"
   ]
  },
  {
   "cell_type": "markdown",
   "id": "11cd7f02",
   "metadata": {},
   "source": [
    "### 2. Las ecuaciones (1.2) y (1.3) en la sección 1.2 proporcionan formas alternativas para las raíces $x_1$ y $x_2$ de $ax^2 + bx + c = 0$. Construya un algoritmo con entrada $a, b, c$ y salida $x_1, x_2$, que calcule las raíces $x_1$ y $x_2$ (que pueden ser iguales o conjugados complejos) indicando la mejor fórmula para cada raíz."
   ]
  },
  {
   "cell_type": "markdown",
   "id": "bc5e338d",
   "metadata": {},
   "source": [
    "### Pseudocódigo\n",
    "# Pseudocódigo para resolver ecuación cuadrática\n",
    "\n",
    "1. ALGORITMO resolver_cuadratica\n",
    "2. ENTRADA:\n",
    "3.    a, b, c: coeficientes de la ecuación ax² + bx + c = 0\n",
    "4. SALIDA:\n",
    "5.    x1, x2: raíces de la ecuación (reales o complejas)\n",
    "\n",
    "6. INICIO\n",
    "7. Calcular discriminante\n",
    "8. D ← b² - 4*a*c\n",
    "    \n",
    "9. Calcular raíz cuadrada del discriminante\n",
    "10. sqrt_D ← √D  Nota: √ permite raíces complejas\n",
    "    \n",
    "11. SI D = 0 ENTONCES\n",
    "12. Raíz doble real\n",
    "13. x1 ← -b / (2*a)\n",
    "14. x2 ← x1\n",
    "15. SINO SI D > 0 ENTONCES\n",
    "16. Dos raíces reales distintas\n",
    "17. SI b ≥ 0 ENTONCES\n",
    "18. x1 ← (-b - sqrt_D) / (2*a)\n",
    "19. x2 ← (2*c) / (-b - sqrt_D)\n",
    "20. SINO\n",
    "21. x1 ← (-b + sqrt_D) / (2*a)\n",
    "22. x2 ← (2*c) / (-b + sqrt_D)\n",
    "23. FIN SI\n",
    "24. SINO\n",
    "25. Raíces complejas conjugadas\n",
    "26. x1 ← (-b + sqrt_D) / (2*a)\n",
    "27. x2 ← (-b - sqrt_D) / (2*a)\n",
    "28. FIN SI\n",
    "    \n",
    "29. DEVOLVER (x1, x2)\n",
    "30. FIN ALGORITMO\n",
    "\n",
    "Ejemplo de uso\n",
    "\n",
    "INICIO EJEMPLO\n",
    "\n",
    "a ← 1\n",
    "\n",
    "b ← -3\n",
    "\n",
    "c ← 2\n",
    "\n",
    "(raiz1, raiz2) ← resolver_cuadratica(a, b, c)\n",
    "\n",
    "IMPRIMIR \"Raíces:\", raiz1, raiz2\n",
    "\n",
    "FIN EJEMPLO"
   ]
  },
  {
   "cell_type": "markdown",
   "id": "b0dfc081",
   "metadata": {},
   "source": [
    "### Código en PYTHON\n"
   ]
  },
  {
   "cell_type": "code",
   "execution_count": 16,
   "id": "23dafd3e",
   "metadata": {},
   "outputs": [
    {
     "name": "stdout",
     "output_type": "stream",
     "text": [
      "Raíces: ((2+0j), (1+0j))\n"
     ]
    }
   ],
   "source": [
    "import cmath  # permite raíces complejas\n",
    "\n",
    "def resolver_cuadratica(a, b, c):\n",
    "    D = b**2 - 4*a*c\n",
    "    sqrt_D = cmath.sqrt(D)\n",
    "    \n",
    "    if D == 0:\n",
    "        x1 = x2 = -b / (2*a)\n",
    "    elif D > 0:\n",
    "        if b >= 0:\n",
    "            x1 = (-b - sqrt_D) / (2*a)\n",
    "            x2 = (2*c) / (-b - sqrt_D)\n",
    "        else:\n",
    "            x1 = (-b + sqrt_D) / (2*a)\n",
    "            x2 = (2*c) / (-b + sqrt_D)\n",
    "    else:\n",
    "        # Raíces complejas\n",
    "        x1 = (-b + sqrt_D) / (2*a)\n",
    "        x2 = (-b - sqrt_D) / (2*a)\n",
    "    \n",
    "    return x1, x2\n",
    "\n",
    "# Ejemplo:\n",
    "a, b, c = 1, -3, 2\n",
    "raices = resolver_cuadratica(a, b, c)\n",
    "print(\"Raíces:\", raices)"
   ]
  },
  {
   "cell_type": "markdown",
   "id": "c6de8230",
   "metadata": {},
   "source": [
    "### 3. Suponga que $\\frac{1-2x}{1+3x} + \\frac{2x-4x^2}{1+7x+3x^2} + \\frac{x^4-8x^7}{1+x+x^3} + \\cdots = \\frac{1+2x}{1+x+3x^2}$ para $ x < 1 $ y si $ x = 0.25$. Escriba y ejecute un algoritmo que determine el número de términos necesarios en el lado izquierdo de la ecuación de tal forma que el lado izquierdo difiera del lado derecho en menos de $10^{-6}$.\n"
   ]
  },
  {
   "cell_type": "markdown",
   "id": "f742ad38",
   "metadata": {},
   "source": [
    "### Pseudocódigo\n",
    "ALGORITMO CalcularTérminosNecesarios\n",
    "\n",
    "ENTRADA:\n",
    "\n",
    "x = 0.25\n",
    "\n",
    "tolerancia = 1e-6\n",
    "\n",
    "máximo_términos = 100 (para evitar bucles infinitos)\n",
    "    \n",
    "VARIABLES:\n",
    "\n",
    "suma_acumulada = 0\n",
    "\n",
    "diferencia = infinito\n",
    "\n",
    "k = 1\n",
    "    \n",
    "MIENTRAS diferencia > tolerancia Y k ≤ máximo_términos HACER:\n",
    "\n",
    "SI k = 1 ENTONCES\n",
    "\n",
    "término = (1 - 2x)/(1 + 3x)\n",
    "\n",
    "SINO SI k = 2 ENTONCES\n",
    "\n",
    "término = (2x - 4x²)/(1 + 7x + 3x²)\n",
    "\n",
    "SINO SI k = 3 ENTONCES\n",
    "\n",
    "término = (x⁴ - 8x⁷)/(1 + x + x³)\n",
    "\n",
    "SINO:\n",
    "\n",
    "TERMINAR (no hay patrón definido para k > 3)\n",
    "\n",
    "FIN SI\n",
    "    \n",
    "suma_acumulada += término\n",
    "\n",
    "valor_derecho = (1 + 2x)/(1 + x + 3x²)\n",
    "\n",
    "diferencia = |suma_acumulada - valor_derecho|\n",
    "\n",
    "k += 1\n",
    "\n",
    "FIN MIENTRAS\n",
    "\n",
    "SI diferencia ≤ tolerancia ENTONCES:\n",
    "\n",
    "IMPRIMIR \"Términos necesarios:\", k-1\n",
    "\n",
    "SINO:\n",
    "\n",
    "IMPRIMIR \"No se alcanzó la tolerancia con\", máximo_términos, \"términos\"\n",
    "\n",
    "FIN ALGORITMO"
   ]
  },
  {
   "cell_type": "markdown",
   "id": "29ec0e94",
   "metadata": {},
   "source": [
    "### Código en PYTHON"
   ]
  },
  {
   "cell_type": "code",
   "execution_count": 27,
   "id": "ca3bd781",
   "metadata": {},
   "outputs": [
    {
     "name": "stdout",
     "output_type": "stream",
     "text": [
      "Término 1: 0.2857142857, Suma: 0.2857142857, Diferencia: 0.7577639752\n",
      "Término 2: 0.0851063830, Suma: 0.3708206687, Diferencia: 0.6726575922\n",
      "Término 3: 0.0027006173, Suma: 0.3735212860, Diferencia: 0.6699569749\n",
      "No hay patrón definido para términos más allá de k=3\n",
      "No se alcanzó la tolerancia con los primeros 10000 términos\n"
     ]
    }
   ],
   "source": [
    "def calcular_terminos_necesarios():\n",
    "    x = 0.25\n",
    "    tolerancia = 1e-6\n",
    "    max_terminos = 10000\n",
    "    suma_izquierda = 0.0\n",
    "    \n",
    "    # Valor del lado derecho\n",
    "    derecho = (1 + 2*x)/(1 + x + 3*x**2)\n",
    "    \n",
    "    for k in range(1, max_terminos + 1):\n",
    "        if k == 1:\n",
    "            term = (1 - 2*x)/(1 + 3*x)\n",
    "        elif k == 2:\n",
    "            term = (2*x - 4*x**2)/(1 + 7*x + 3*x**2)\n",
    "        elif k == 3:\n",
    "            term = (x**4 - 8*x**7)/(1 + x + x**3)\n",
    "        else:\n",
    "            print(\"No hay patrón definido para términos más allá de k=3\")\n",
    "            break\n",
    "            \n",
    "        suma_izquierda += term\n",
    "        diferencia = abs(suma_izquierda - derecho)\n",
    "        \n",
    "        print(f\"Término {k}: {term:.10f}, Suma: {suma_izquierda:.10f}, Diferencia: {diferencia:.10f}\")\n",
    "        \n",
    "        if diferencia < tolerancia:\n",
    "            print(f\"\\nSe alcanzó la tolerancia con {k} términos\")\n",
    "            print(f\"Valor final: {suma_izquierda:.10f}\")\n",
    "            print(f\"Valor derecho: {derecho:.10f}\")\n",
    "            print(f\"Diferencia: {diferencia:.10f}\")\n",
    "            return\n",
    "            \n",
    "    print(\"No se alcanzó la tolerancia con los primeros\", max_terminos, \"términos\")\n",
    "\n",
    "calcular_terminos_necesarios()\n"
   ]
  }
 ],
 "metadata": {
  "kernelspec": {
   "display_name": "base",
   "language": "python",
   "name": "python3"
  },
  "language_info": {
   "codemirror_mode": {
    "name": "ipython",
    "version": 3
   },
   "file_extension": ".py",
   "mimetype": "text/x-python",
   "name": "python",
   "nbconvert_exporter": "python",
   "pygments_lexer": "ipython3",
   "version": "3.12.7"
  }
 },
 "nbformat": 4,
 "nbformat_minor": 5
}
