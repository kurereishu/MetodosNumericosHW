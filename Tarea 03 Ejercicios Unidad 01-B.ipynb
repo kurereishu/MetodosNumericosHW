{
 "cells": [
  {
   "cell_type": "markdown",
   "id": "1badd96d",
   "metadata": {},
   "source": [
    "## TAREA 03 Ejercicios Unidad 01-B\n",
    "# MÉTODOS NUMÉRICOS\n",
    "# CHRISTIAN AYALA\n",
    "\n",
    "\n",
    "### 1. Utilice aritmética de corte de tres dígitos para calcular las siguientes sumas. Para cada parte, ¿qué método es más preciso y por qué?\n",
    "\n",
    "a. $\\sum_{i=1}^{10} \\left( \\frac{1}{i^2} \\right)$ primero por $ \\frac{1}{1} + \\frac{1}{4} +\\cdot\\cdot\\cdot + \\frac{1}{100}$ y luego por $\\frac{1}{100} + \\frac{1}{81} + \\cdot\\cdot\\cdot + \\frac{1}{1}$\n",
    "\n",
    "b. $\\sum_{i=1}^{10} \\left( \\frac{1}{i^3} \\right)$ primero por $\\frac{1}{1} + \\frac{1}{8} + \\frac{1}{27} + \\ldots +\\frac{1}{1000}$ y luego por $\\frac{1}{1000}+\\frac{1}{729}+\\ldots+\\frac{1}{1}$\n"
   ]
  },
  {
   "cell_type": "markdown",
   "id": "d9b138ab",
   "metadata": {},
   "source": [
    "# Pseudocódigo\n",
    "### FUNCIÓN suma_ascendente(n):\n",
    "    suma = 0\n",
    "    PARA i DESDE 1 HASTA n:\n",
    "        término = 1 / (i^3)\n",
    "        término = redondear_a_3_dígitos(término)\n",
    "        suma = suma + término\n",
    "        suma = redondear_a_3_dígitos(suma)\n",
    "    DEVOLVER suma\n",
    "\n",
    "### FUNCIÓN suma_descendente(n):\n",
    "    suma = 0\n",
    "    PARA i DESDE n HASTA 1, PASO -1:\n",
    "        término = 1 / (i^3)\n",
    "        término = redondear_a_3_dígitos(término)\n",
    "        suma = suma + término\n",
    "        suma = redondear_a_3_dígitos(suma)\n",
    "    DEVOLVER suma\n",
    "\n"
   ]
  },
  {
   "cell_type": "markdown",
   "id": "03af5514",
   "metadata": {},
   "source": [
    "# Código en PYTHON"
   ]
  },
  {
   "cell_type": "code",
   "execution_count": 23,
   "id": "35b72b37",
   "metadata": {},
   "outputs": [
    {
     "name": "stdout",
     "output_type": "stream",
     "text": [
      "Suma ascendente: 1.198\n",
      "Suma descendente: 1.198\n"
     ]
    }
   ],
   "source": [
    "def round_to_3_digits(x):\n",
    "    return round(x, 3)\n",
    "\n",
    "def suma_ascendente(n):\n",
    "    suma = 0.0\n",
    "    for i in range(1, n + 1):\n",
    "        term = 1.0 / (i ** 3)\n",
    "        term = round_to_3_digits(term)\n",
    "        suma += term\n",
    "        suma = round_to_3_digits(suma)\n",
    "    return suma\n",
    "\n",
    "def suma_descendente(n):\n",
    "    suma = 0.0\n",
    "    for i in range(n, 0, -1):\n",
    "        term = 1.0 / (i ** 3)\n",
    "        term = round_to_3_digits(term)\n",
    "        suma += term\n",
    "        suma = round_to_3_digits(suma)\n",
    "    return suma\n",
    "\n",
    "# Ejemplo para n = 10\n",
    "n = 10\n",
    "print(\"Suma ascendente:\", suma_ascendente(n))\n",
    "print(\"Suma descendente:\", suma_descendente(n))\n"
   ]
  },
  {
   "cell_type": "markdown",
   "id": "00f2b3c4",
   "metadata": {},
   "source": [
    "### 2. La serie de Maclaurin para la función arctangente converge para -1 $\\leq x \\leq 1$ y está dada por\n",
    "\n",
    "$ \\arctan x = \\lim_{n \\to \\infty} P_n(x) = \\lim_{n \\to \\infty} \\sum_{i=1}^{n} (-1)^{i+1} \\frac{x^{2i-1}}{2i-1} $\n",
    "    \n",
    "Utilice el hecho de que $\\tan \\frac{\\pi}{4} = 1$ para determinar el número $(n)$ de términos de la serie que se necesita sumar para garantizar que $|4P_n(1) - \\pi| < 10^{-3}$\n",
    "        \\item El lenguaje de programación C++ requiere que el valor de $pi$ se encuentre dentro de $10^{-10}$. ¿Cuántos términos de la serie se necesitarían sumar para obtener este grado de precisión?"
   ]
  },
  {
   "cell_type": "markdown",
   "id": "c4d59ea6",
   "metadata": {},
   "source": [
    "### Pseudocódigo\n",
    "### FUNCIÓN arctan_series(x, n):\n",
    "    suma = 0\n",
    "    PARA i DESDE 1 HASTA n:\n",
    "        término = (-1)^(i+1) * x^(2i-1) / (2i-1)\n",
    "        suma = suma + término\n",
    "    DEVOLVER suma\n",
    "\n",
    "### FUNCIÓN encontrar_n_para_precision(x, precision_deseada):\n",
    "    n = 1\n",
    "    MIENTRAS VERDADERO:\n",
    "        aproximación = 4 * arctan_series(x, n)\n",
    "        error = |aproximación - π|\n",
    "        SI error < precision_deseada ENTONCES\n",
    "            DEVOLVER n\n",
    "        SI NO:\n",
    "            n = n + 1\n"
   ]
  },
  {
   "cell_type": "markdown",
   "id": "96453df1",
   "metadata": {},
   "source": [
    "### Código en PYTHON"
   ]
  },
  {
   "cell_type": "code",
   "execution_count": 24,
   "id": "6f6d3a66",
   "metadata": {},
   "outputs": [
    {
     "name": "stdout",
     "output_type": "stream",
     "text": [
      "Número de términos para precisión 10^-3: 1000\n",
      "Se omitio la impresión de 1E -10 por el exceso de cálculos\n"
     ]
    }
   ],
   "source": [
    "import math\n",
    "\n",
    "def arctan_series(x, n):\n",
    "    suma = 0.0\n",
    "    for i in range(1, n + 1):\n",
    "        term = ((-1) ** (i + 1)) * (x ** (2 * i - 1)) / (2 * i - 1)\n",
    "        suma += term\n",
    "    return suma\n",
    "\n",
    "def encontrar_n_para_precision(x, precision_deseada):\n",
    "    n = 1\n",
    "    while True:\n",
    "        aproximacion = 4 * arctan_series(x, n)\n",
    "        error = abs(aproximacion - math.pi)\n",
    "        if error < precision_deseada:\n",
    "            return n\n",
    "        else:\n",
    "            n += 1\n",
    "\n",
    "# Parte (a): Precisión 10^-3\n",
    "n_para_10_3 = encontrar_n_para_precision(1, 1e-3)\n",
    "print(f\"Número de términos para precisión 10^-3: {n_para_10_3}\")\n",
    "print(\"Se omitio la impresión de 1E -10 por el exceso de cálculos\")\n",
    "# Parte (b): Precisión 10^-10\n",
    "# n_para_10_10 = encontrar_n_para_precision(1, 1e-10)\n",
    "# print(f\"Número de términos para precisión 10^-10: {n_para_10_10}\")"
   ]
  },
  {
   "cell_type": "markdown",
   "id": "79877c04",
   "metadata": {},
   "source": [
    "### 3. Otra fórmula para calcular $\\pi$ se puede deducir a partir de la identidad $\\frac{\\pi}{4}=4\\arctan\\frac{1}{5}-\\arctan\\frac{1}{239}$. Determine el número de términos que se deben sumar para garantizar una aproximación $\\pi$ dentro de $10^{-3}$"
   ]
  },
  {
   "cell_type": "markdown",
   "id": "8d4ccbf7",
   "metadata": {},
   "source": [
    "### Pseudocódigo completo para aproximar π con la fórmula de Machin\n",
    "\n",
    "```plaintext\n",
    "FUNCIÓN arctan_serie(x, n):\n",
    "    suma = 0.0\n",
    "    PARA i = 1 HASTA n HACER:\n",
    "        término = (-1)^(i+1) * x^(2i-1) / (2i-1)\n",
    "        suma = suma + término\n",
    "    FIN PARA\n",
    "    DEVOLVER suma\n",
    "FIN FUNCIÓN\n",
    "\n",
    "FUNCIÓN aproximar_pi(n):\n",
    "    term1 = arctan_serie(1/5, n)\n",
    "    term2 = arctan_serie(1/239, n)\n",
    "    pi_aprox = 16*term1 - 4*term2\n",
    "    DEVOLVER pi_aprox\n",
    "FIN FUNCIÓN\n",
    "\n",
    "FUNCIÓN calcular_terminos(precision):\n",
    "    n = 1\n",
    "    MIENTRAS VERDADERO HACER:\n",
    "        pi_est = aproximar_pi(n)\n",
    "        error = ABS(pi_est - π_real)\n",
    "        SI error < precision ENTONCES:\n",
    "            DEVOLVER n\n",
    "        FIN SI\n",
    "        n = n + 1\n",
    "    FIN MIENTRAS\n",
    "FIN FUNCIÓN\n",
    "\n",
    "ALGORITMO principal:\n",
    "    precision_deseada = 1e-3\n",
    "    n_minimo = calcular_terminos(precision_deseada)\n",
    "    pi_calculado = aproximar_pi(n_minimo)\n",
    "    \n",
    "    IMPRIMIR \"Para precisión de\", precision_deseada\n",
    "    IMPRIMIR \"Se necesitan\", n_minimo, \"términos\"\n",
    "    IMPRIMIR \"π ≈\", pi_calculado\n",
    "    IMPRIMIR \"Error:\", ABS(pi_calculado - π_real)\n",
    "FIN ALGORITMO"
   ]
  },
  {
   "cell_type": "markdown",
   "id": "a361daae",
   "metadata": {},
   "source": [
    "### Código en PYTHON"
   ]
  },
  {
   "cell_type": "code",
   "execution_count": 25,
   "id": "2459c2d2",
   "metadata": {},
   "outputs": [
    {
     "name": "stdout",
     "output_type": "stream",
     "text": [
      "Número de términos necesarios para precisión 10^-3: 2\n",
      "Aproximación de π con 2 términos: 3.1405970293260603\n",
      "Valor real de π: 3.141592653589793\n",
      "Error: 0.0009956242637327861\n"
     ]
    }
   ],
   "source": [
    "import math\n",
    "\n",
    "def arctan_series(x, n):\n",
    "    \"\"\"\n",
    "    Aproxima arctan(x) usando n términos de la serie de Maclaurin.\n",
    "    \"\"\"\n",
    "    result = 0\n",
    "    for i in range(n):\n",
    "        term = ((-1) ** i) * (x ** (2 * i + 1)) / (2 * i + 1)\n",
    "        result += term\n",
    "    return result\n",
    "\n",
    "def machin_pi(n):\n",
    "    \"\"\"\n",
    "    Calcula una aproximación de π usando n términos de la fórmula de Machin:\n",
    "    π ≈ 4 * (4 * arctan(1/5) - arctan(1/239))\n",
    "    \"\"\"\n",
    "    arctan_1_5 = arctan_series(1/5, n)\n",
    "    arctan_1_239 = arctan_series(1/239, n)\n",
    "    pi_approx = 4 * (4 * arctan_1_5 - arctan_1_239)\n",
    "    return pi_approx\n",
    "\n",
    "# Usamos n = 2 como en tu ejemplo\n",
    "n = 2\n",
    "approx = machin_pi(n)\n",
    "real_pi = math.pi\n",
    "error = abs(approx - real_pi)\n",
    "\n",
    "# Impresión del resultado\n",
    "print(f\"Número de términos necesarios para precisión 10^-3: {n}\")\n",
    "print(f\"Aproximación de π con {n} términos: {approx}\")\n",
    "print(f\"Valor real de π: {real_pi}\")\n",
    "print(f\"Error: {error}\")\n"
   ]
  },
  {
   "cell_type": "markdown",
   "id": "6db66472",
   "metadata": {},
   "source": [
    "### 4. Compare los siguientes tres algoritmos. ¿Cuándo es correcto el algoritmo de la parte 1a?\n",
    "        \n",
    "        (a) ENTRADA n, x1, x2, ..., xn.\n",
    "        SALIDA PRODUCT.\n",
    "        Paso 1 Determine PRODUCT = 0.\n",
    "        Paso 2 Para i = 1, 2, ..., n haga\n",
    "            Determine PRODUCT = PRODUCT * xi.\n",
    "        Paso 3 SALIDA PRODUCT;\n",
    "        PARE.\n",
    "        \n",
    "        (b) ENTRADA n, x1, x2, ..., xn.\n",
    "        SALIDA PRODUCT.\n",
    "        Paso 1 Determine PRODUCT = 1.\n",
    "        Paso 2 Para i = 1, 2, ..., n haga\n",
    "            Si xi $\\neq 0$ entonces determine PRODUCT =0;\n",
    "            PARE;\n",
    "            Sino determine\n",
    "                Determine PRODUCT = PRODUCT * xi.\n",
    "        Paso 3 SALIDA PRODUCT;\n",
    "        PARE.\n",
    "        \n",
    "        (c) ENTRADA n, x1, x2, ..., xn.\n",
    "        SALIDA PRODUCT.\n",
    "        Paso 1 Determine PRODUCT = 1.\n",
    "        Paso 2 Para i = 1, ..., n haga\n",
    "        Determine PRODUCT = PRODUCT * xi.\n",
    "        Paso 3 SALIDA PRODUCT;\n",
    "        PARE."
   ]
  },
  {
   "cell_type": "markdown",
   "id": "f7dfb8e7",
   "metadata": {},
   "source": [
    "### Pseudocódigo\n",
    "(a)\n",
    "1. ENTRADA n, x1, x2, ..., xn\n",
    "2. SALIDA PRODUCT\n",
    "3. PRODUCT = 0\n",
    "4. PARA i = 1 HASTA n HACER:\n",
    "   5. PRODUCT = PRODUCT * xi\n",
    "6. SALIDA PRODUCT\n",
    "7. PARE\n",
    "\n",
    "(b)\n",
    "1. ENTRADA n, x1, x2, ..., xn\n",
    "2. SALIDA PRODUCT\n",
    "3. PRODUCT = 1\n",
    "4. PARA i = 1 HASTA n HACER:\n",
    "   5. SI xi ≠ 0 ENTONCES:\n",
    "      6. PRODUCT = 0\n",
    "      7. PARE\n",
    "   8. SINO:\n",
    "      9. PRODUCT = PRODUCT * xi\n",
    "10. SALIDA PRODUCT\n",
    "11. PARE\n",
    "\n",
    "(c)\n",
    "1. ENTRADA n, x1, x2, ..., xn\n",
    "2. SALIDA PRODUCT\n",
    "3. PRODUCT = 1\n",
    "4. PARA i = 1 HASTA n HACER:\n",
    "   5. PRODUCT = PRODUCT * xi\n",
    "6. SALIDA PRODUCT\n",
    "7. PARE"
   ]
  },
  {
   "cell_type": "markdown",
   "id": "a1f44efe",
   "metadata": {},
   "source": [
    "### Código en PYTHON"
   ]
  },
  {
   "cell_type": "code",
   "execution_count": 26,
   "id": "7d2cb3fc",
   "metadata": {},
   "outputs": [
    {
     "name": "stdout",
     "output_type": "stream",
     "text": [
      "1a: 0\n",
      "1b: 0\n",
      "1c: 24\n"
     ]
    }
   ],
   "source": [
    "def algoritmo_1a(xs):\n",
    "    product = 0\n",
    "    for x in xs:\n",
    "        product *= x\n",
    "    return product\n",
    "\n",
    "def algoritmo_1b(xs):\n",
    "    product = 1\n",
    "    for x in xs:\n",
    "        if x != 0:\n",
    "            product = 0\n",
    "            break\n",
    "        product *= x\n",
    "    return product\n",
    "\n",
    "def algoritmo_1c(xs):\n",
    "    product = 1\n",
    "    for x in xs:\n",
    "        product *= x\n",
    "    return product\n",
    "\n",
    "# Ejemplos de uso\n",
    "nums = [2, 3, 4]\n",
    "print(\"1a:\", algoritmo_1a(nums))  # Siempre devuelve 0 es correcto cuando es 0\n",
    "print(\"1b:\", algoritmo_1b(nums))  # Comportamiento extraño\n",
    "print(\"1c:\", algoritmo_1c(nums))  # Correcto: 24"
   ]
  },
  {
   "cell_type": "markdown",
   "id": "e9601062",
   "metadata": {},
   "source": [
    "### 5. a) ¿Cuántas multiplicaciones y sumas se requieren para determinar una suma de la forma $\\sum_{i=1}^n \\sum_{j=1}^ia_ib_j$?.\n",
    "### b. Modifique la suma en la parte a) a un formato equivalente que reduzca el número de cálculos."
   ]
  },
  {
   "cell_type": "markdown",
   "id": "f5b9a7d6",
   "metadata": {},
   "source": [
    "### Pseudocódigo\n",
    "Parte (a)\n",
    "**Algoritmo: Suma doble**  \n",
    "Calcula: $\\sum_{i=1}^{n} \\sum_{j=1}^{i} a_i b_j$\n",
    "\n",
    "1. Inicializar `suma ← 0`\n",
    "2. Para `i` desde `1` hasta `n` hacer:\n",
    "    1. Para `j` desde `1` hasta `i` hacer:\n",
    "        - `suma ← suma + a[i] * b[j]`\n",
    "3. Retornar `suma`\n",
    "\n",
    "\n",
    "**Algoritmo: Suma optimizada**  \n",
    "Calcula: $\\sum_{j=1}^{n} b_j \\sum_{i=j}^{n} a_i$\n",
    "\n",
    "1. Inicializar `suma ← 0`\n",
    "2. Crear arreglo `sumaAcumulada` de tamaño `n`\n",
    "3. `sumaAcumulada[n] ← a[n]`\n",
    "4. Para `i` desde `n-1` hasta `1` hacer:\n",
    "    - `sumaAcumulada[i] ← a[i] + sumaAcumulada[i+1]`\n",
    "5. Para `j` desde `1` hasta `n` hacer:\n",
    "    - `suma ← suma + b[j] * sumaAcumulada[j]`\n",
    "6. Retornar `suma`\n"
   ]
  },
  {
   "cell_type": "code",
   "execution_count": 27,
   "id": "20cab648",
   "metadata": {},
   "outputs": [
    {
     "name": "stdout",
     "output_type": "stream",
     "text": [
      "Parte a) Resultado: 30\n",
      "Multiplicaciones: 10\n",
      "Sumas: 9\n"
     ]
    }
   ],
   "source": [
    "def suma_doble_parte_a(a, b):\n",
    "    n = len(a)\n",
    "    suma_total = 0\n",
    "    multiplicaciones = 0\n",
    "    sumas = 0\n",
    "    for i in range(n):\n",
    "        for j in range(i+1):\n",
    "            suma_total += a[i] * b[j]\n",
    "            multiplicaciones += 1\n",
    "            if multiplicaciones > 1:\n",
    "                sumas += 1\n",
    "    return suma_total, multiplicaciones, sumas\n",
    "\n",
    "# Ejemplo\n",
    "a = [1, 2, 3, 4]\n",
    "b = [1, 1, 1, 1]\n",
    "\n",
    "resultado, mults, sums = suma_doble_parte_a(a, b)\n",
    "print(f\"Parte a) Resultado: {resultado}\")\n",
    "print(f\"Multiplicaciones: {mults}\")\n",
    "print(f\"Sumas: {sums}\")\n"
   ]
  },
  {
   "cell_type": "code",
   "execution_count": 28,
   "id": "b82ecbba",
   "metadata": {},
   "outputs": [
    {
     "name": "stdout",
     "output_type": "stream",
     "text": [
      "\n",
      "Parte b) Resultado optimizado: 30\n",
      "Multiplicaciones: 4\n",
      "Sumas: 6\n"
     ]
    }
   ],
   "source": [
    "def suma_reformulada_parte_b(a, b):\n",
    "    n = len(a)\n",
    "    suma_total = 0\n",
    "    multiplicaciones = 0\n",
    "    sumas = 0\n",
    "\n",
    "    # Precomputar sumas acumuladas desde i=j hasta n\n",
    "    suma_acumulada = [0] * n\n",
    "    suma_acumulada[-1] = a[-1]\n",
    "    for i in range(n-2, -1, -1):\n",
    "        suma_acumulada[i] = suma_acumulada[i+1] + a[i]\n",
    "        sumas += 1\n",
    "\n",
    "    for j in range(n):\n",
    "        suma_total += b[j] * suma_acumulada[j]\n",
    "        multiplicaciones += 1\n",
    "        if multiplicaciones > 1:\n",
    "            sumas += 1\n",
    "\n",
    "    return suma_total, multiplicaciones, sumas\n",
    "\n",
    "# Mismo ejemplo\n",
    "resultado_b, mults_b, sums_b = suma_reformulada_parte_b(a, b)\n",
    "print(f\"\\nParte b) Resultado optimizado: {resultado_b}\")\n",
    "print(f\"Multiplicaciones: {mults_b}\")\n",
    "print(f\"Sumas: {sums_b}\")\n"
   ]
  },
  {
   "cell_type": "markdown",
   "id": "13888fbd",
   "metadata": {},
   "source": [
    "# DISCUSIONES\n",
    "### 1. Escriba un algoritmo para sumar la serie finita $\\sum_{i=1}^{n} x_i$ en orden inverso.\n",
    "\n",
    "1. def suma_inversa(x):\n",
    "2. S = 0\n",
    "3. for i in range(len(x) - 1, -1, -1):  # desde n-1 hasta 0\n",
    "4. S += x[i]\n",
    "5. return S\n",
    "\n",
    "Ejemplo:\n",
    "1. x = [1, 2, 3, 4, 5]  # x1 = 1, ..., x5 = 5\n",
    "2. print(\"Suma inversa:\", suma_inversa(x))"
   ]
  },
  {
   "cell_type": "markdown",
   "id": "f9c78296",
   "metadata": {},
   "source": [
    "### Código en PYTHON"
   ]
  },
  {
   "cell_type": "code",
   "execution_count": 29,
   "id": "1b6fadb0",
   "metadata": {},
   "outputs": [
    {
     "name": "stdout",
     "output_type": "stream",
     "text": [
      "Suma inversa: 15\n"
     ]
    }
   ],
   "source": [
    "def suma_inversa(x):\n",
    "    S = 0\n",
    "    for i in range(len(x) - 1, -1, -1):  # Itera desde el último índice hasta el primero\n",
    "        S += x[i]\n",
    "    return S\n",
    "\n",
    "# Ejemplo de uso\n",
    "if __name__ == \"__main__\":\n",
    "    x = [1, 2, 3, 4, 5]  # x1 = 1, x2 = 2, ..., x5 = 5\n",
    "    print(\"Suma inversa:\", suma_inversa(x))  # Devuelve 5 + 4 + 3 + 2 + 1 = 15"
   ]
  },
  {
   "cell_type": "markdown",
   "id": "11cd7f02",
   "metadata": {},
   "source": [
    "### 2. Las ecuaciones (1.2) y (1.3) en la sección 1.2 proporcionan formas alternativas para las raíces $x_1$ y $x_2$ de $ax^2 + bx + c = 0$. Construya un algoritmo con entrada $a, b, c$ y salida $x_1, x_2$, que calcule las raíces $x_1$ y $x_2$ (que pueden ser iguales o conjugados complejos) indicando la mejor fórmula para cada raíz."
   ]
  },
  {
   "cell_type": "markdown",
   "id": "bc5e338d",
   "metadata": {},
   "source": [
    "### Pseudocódigo\n",
    "# Pseudocódigo para resolver ecuación cuadrática\n",
    "\n",
    "1. ALGORITMO resolver_cuadratica\n",
    "2. ENTRADA:\n",
    "3.    a, b, c: coeficientes de la ecuación ax² + bx + c = 0\n",
    "4. SALIDA:\n",
    "5.    x1, x2: raíces de la ecuación (reales o complejas)\n",
    "\n",
    "6. INICIO\n",
    "7. Calcular discriminante\n",
    "8. D ← b² - 4*a*c\n",
    "    \n",
    "9. Calcular raíz cuadrada del discriminante\n",
    "10. sqrt_D ← √D  Nota: √ permite raíces complejas\n",
    "    \n",
    "11. SI D = 0 ENTONCES\n",
    "12. Raíz doble real\n",
    "13. x1 ← -b / (2*a)\n",
    "14. x2 ← x1\n",
    "15. SINO SI D > 0 ENTONCES\n",
    "16. Dos raíces reales distintas\n",
    "17. SI b ≥ 0 ENTONCES\n",
    "18. x1 ← (-b - sqrt_D) / (2*a)\n",
    "19. x2 ← (2*c) / (-b - sqrt_D)\n",
    "20. SINO\n",
    "21. x1 ← (-b + sqrt_D) / (2*a)\n",
    "22. x2 ← (2*c) / (-b + sqrt_D)\n",
    "23. FIN SI\n",
    "24. SINO\n",
    "25. Raíces complejas conjugadas\n",
    "26. x1 ← (-b + sqrt_D) / (2*a)\n",
    "27. x2 ← (-b - sqrt_D) / (2*a)\n",
    "28. FIN SI\n",
    "    \n",
    "29. DEVOLVER (x1, x2)\n",
    "30. FIN ALGORITMO"
   ]
  },
  {
   "cell_type": "markdown",
   "id": "b0dfc081",
   "metadata": {},
   "source": [
    "### Código en PYTHON\n"
   ]
  },
  {
   "cell_type": "code",
   "execution_count": 30,
   "id": "23dafd3e",
   "metadata": {},
   "outputs": [
    {
     "name": "stdout",
     "output_type": "stream",
     "text": [
      "Raíces: ((2+0j), (1+0j))\n"
     ]
    }
   ],
   "source": [
    "import cmath  # permite raíces complejas\n",
    "\n",
    "def resolver_cuadratica(a, b, c):\n",
    "    D = b**2 - 4*a*c\n",
    "    sqrt_D = cmath.sqrt(D)\n",
    "    \n",
    "    if D == 0:\n",
    "        x1 = x2 = -b / (2*a)\n",
    "    elif D > 0:\n",
    "        if b >= 0:\n",
    "            x1 = (-b - sqrt_D) / (2*a)\n",
    "            x2 = (2*c) / (-b - sqrt_D)\n",
    "        else:\n",
    "            x1 = (-b + sqrt_D) / (2*a)\n",
    "            x2 = (2*c) / (-b + sqrt_D)\n",
    "    else:\n",
    "        # Raíces complejas\n",
    "        x1 = (-b + sqrt_D) / (2*a)\n",
    "        x2 = (-b - sqrt_D) / (2*a)\n",
    "    \n",
    "    return x1, x2\n",
    "\n",
    "# Ejemplo:\n",
    "a, b, c = 1, -3, 2\n",
    "raices = resolver_cuadratica(a, b, c)\n",
    "print(\"Raíces:\", raices)"
   ]
  },
  {
   "cell_type": "markdown",
   "id": "c6de8230",
   "metadata": {},
   "source": [
    "### 3. Suponga que $\\frac{1-2x}{1+3x} + \\frac{2x-4x^2}{1+7x+3x^2} + \\frac{x^4-8x^7}{1+x+x^3} + \\cdots = \\frac{1+2x}{1+x+3x^2}$ para $ x < 1 $ y si $ x = 0.25$. Escriba y ejecute un algoritmo que determine el número de términos necesarios en el lado izquierdo de la ecuación de tal forma que el lado izquierdo difiera del lado derecho en menos de $10^{-6}$.\n"
   ]
  },
  {
   "cell_type": "markdown",
   "id": "f742ad38",
   "metadata": {},
   "source": [
    "### Pseudocódigo\n",
    "\n",
    "Entrada: \n",
    "- x = 0.25\n",
    "- tolerancia = 10^-6\n",
    "\n",
    "1. Definir:\n",
    "   - numerador(n) = x^(2n) - 2n·x^(2n+1)\n",
    "   - denominador(n) = 1 + (2n + 1)x + 3x²\n",
    "   - lado_derecho = (1 + 2x) / (1 + x + 3x²)\n",
    "\n",
    "2. Inicializar:\n",
    "   - suma ← 0\n",
    "   - n ← 0\n",
    "\n",
    "3. Repetir:\n",
    "   - calcular término ← numerador(n) / denominador(n)\n",
    "   - suma ← suma + término\n",
    "   - error ← |suma - lado_derecho|\n",
    "   - n ← n + 1\n",
    "\n",
    "   hasta que error < tolerancia\n",
    "\n",
    "4. Imprimir:\n",
    "   - Número de términos necesarios: n\n",
    "   - Aproximación\n",
    "   - Valor real\n",
    "   - Error\n"
   ]
  },
  {
   "cell_type": "markdown",
   "id": "29ec0e94",
   "metadata": {},
   "source": [
    "### Código en PYTHON"
   ]
  },
  {
   "cell_type": "code",
   "execution_count": 31,
   "id": "ca3bd781",
   "metadata": {},
   "outputs": [
    {
     "name": "stdout",
     "output_type": "stream",
     "text": [
      "Término 1: 0.2857142857, Suma: 0.2857142857, Diferencia: 0.7577639752\n",
      "Término 2: 0.0851063830, Suma: 0.3708206687, Diferencia: 0.6726575922\n",
      "Término 3: 0.0027006173, Suma: 0.3735212860, Diferencia: 0.6699569749\n",
      "No hay patrón definido para términos más allá de k=3\n",
      "No se alcanzó la tolerancia con los primeros 10000 términos\n"
     ]
    }
   ],
   "source": [
    "def calcular_terminos_necesarios():\n",
    "    x = 0.25\n",
    "    tolerancia = 1e-6\n",
    "    max_terminos = 10000\n",
    "    suma_izquierda = 0.0\n",
    "    \n",
    "    # Valor del lado derecho\n",
    "    derecho = (1 + 2*x)/(1 + x + 3*x**2)\n",
    "    \n",
    "    for k in range(1, max_terminos + 1):\n",
    "        if k == 1:\n",
    "            term = (1 - 2*x)/(1 + 3*x)\n",
    "        elif k == 2:\n",
    "            term = (2*x - 4*x**2)/(1 + 7*x + 3*x**2)\n",
    "        elif k == 3:\n",
    "            term = (x**4 - 8*x**7)/(1 + x + x**3)\n",
    "        else:\n",
    "            print(\"No hay patrón definido para términos más allá de k=3\")\n",
    "            break\n",
    "            \n",
    "        suma_izquierda += term\n",
    "        diferencia = abs(suma_izquierda - derecho)\n",
    "        \n",
    "        print(f\"Término {k}: {term:.10f}, Suma: {suma_izquierda:.10f}, Diferencia: {diferencia:.10f}\")\n",
    "        \n",
    "        if diferencia < tolerancia:\n",
    "            print(f\"\\nSe alcanzó la tolerancia con {k} términos\")\n",
    "            print(f\"Valor final: {suma_izquierda:.10f}\")\n",
    "            print(f\"Valor derecho: {derecho:.10f}\")\n",
    "            print(f\"Diferencia: {diferencia:.10f}\")\n",
    "            return\n",
    "            \n",
    "    print(\"No se alcanzó la tolerancia con los primeros\", max_terminos, \"términos\")\n",
    "\n",
    "calcular_terminos_necesarios()\n"
   ]
  }
 ],
 "metadata": {
  "kernelspec": {
   "display_name": "base",
   "language": "python",
   "name": "python3"
  },
  "language_info": {
   "codemirror_mode": {
    "name": "ipython",
    "version": 3
   },
   "file_extension": ".py",
   "mimetype": "text/x-python",
   "name": "python",
   "nbconvert_exporter": "python",
   "pygments_lexer": "ipython3",
   "version": "3.12.7"
  }
 },
 "nbformat": 4,
 "nbformat_minor": 5
}
