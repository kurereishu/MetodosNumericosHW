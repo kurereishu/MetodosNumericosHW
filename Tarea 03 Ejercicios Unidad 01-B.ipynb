{
 "cells": [
  {
   "cell_type": "markdown",
   "id": "1badd96d",
   "metadata": {},
   "source": [
    "# TAREA 03 Ejercicios Unidad 01-B\n",
    "# MÉTODOS NUMÉRICOS\n",
    "# CHRISTIAN AYALA\n",
    "# Conjunto de Ejercicios\n",
    "\n",
    "\n",
    "### 1. Utilice aritmética de corte de tres dígitos para calcular las siguientes sumas. Para cada parte, ¿qué método es más preciso y por qué?\n",
    "\n",
    "a. $\\sum_{i=1}^{10} \\left( \\frac{1}{i^2} \\right)$ primero por $ \\frac{1}{1} + \\frac{1}{4} +\\cdot\\cdot\\cdot + \\frac{1}{100}$ y luego por $\\frac{1}{100} + \\frac{1}{81} + \\cdot\\cdot\\cdot + \\frac{1}{1}$\n",
    "\n",
    "b. $\\sum_{i=1}^{10} \\left( \\frac{1}{i^3} \\right)$ primero por $\\frac{1}{1} + \\frac{1}{8} + \\frac{1}{27} + \\ldots +\\frac{1}{1000}$ y luego por $\\frac{1}{1000}+\\frac{1}{729}+\\ldots+\\frac{1}{1}$\n"
   ]
  },
  {
   "cell_type": "markdown",
   "id": "d9c9d52c",
   "metadata": {},
   "source": [
    "### Pseudocódigo a"
   ]
  },
  {
   "cell_type": "markdown",
   "id": "d9b138ab",
   "metadata": {},
   "source": [
    "**Entrada:** Ninguna  \n",
    "**Salida:** Suma directa y suma inversa (usando corte de 3 dígitos)\n",
    "\n",
    "**Suma directa:**  \n",
    "Paso 1: Suma = 0  \n",
    "Paso 2: Para i = 1 hasta 10 hacer  \n",
    "    Término = Corte(1 / i², 3 dígitos)  \n",
    "    Suma = Corte(Suma + Término, 3 dígitos)  \n",
    "Paso 3: SALIDA Suma\n",
    "\n",
    "**Suma inversa:**  \n",
    "Paso 1: Suma = 0  \n",
    "Paso 2: Para i = 10 hasta 1 hacer  \n",
    "    Término = Corte(1 / i², 3 dígitos)  \n",
    "    Suma = Corte(Suma + Término, 3 dígitos)  \n",
    "Paso 3: SALIDA Suma\n",
    "\n"
   ]
  },
  {
   "cell_type": "markdown",
   "id": "d2ab4649",
   "metadata": {},
   "source": [
    "### Pseudocódigo b"
   ]
  },
  {
   "cell_type": "markdown",
   "id": "bbfcf2bb",
   "metadata": {},
   "source": [
    "**Entrada:** Ninguna  \n",
    "**Salida:** Suma directa y suma inversa (usando corte de 3 dígitos)\n",
    "\n",
    "**Suma directa:**  \n",
    "Paso 1: Suma = 0  \n",
    "Paso 2: Para i = 1 hasta 10 hacer  \n",
    "    Término = Corte(1 / i³, 3 dígitos)  \n",
    "    Suma = Corte(Suma + Término, 3 dígitos)  \n",
    "Paso 3: SALIDA Suma\n",
    "\n",
    "**Suma inversa:**  \n",
    "Paso 1: Suma = 0  \n",
    "Paso 2: Para i = 10 hasta 1 hacer  \n",
    "    Término = Corte(1 / i³, 3 dígitos)  \n",
    "    Suma = Corte(Suma + Término, 3 dígitos)  \n",
    "Paso 3: SALIDA Suma\n"
   ]
  },
  {
   "cell_type": "markdown",
   "id": "03af5514",
   "metadata": {},
   "source": [
    "# Código en PYTHON"
   ]
  },
  {
   "cell_type": "code",
   "execution_count": 2,
   "id": "35b72b37",
   "metadata": {},
   "outputs": [
    {
     "name": "stdout",
     "output_type": "stream",
     "text": [
      "Suma ascendente: 1.198\n",
      "Suma descendente: 1.198\n"
     ]
    }
   ],
   "source": [
    "def round_to_3_digits(x):\n",
    "    return round(x, 3)\n",
    "\n",
    "def suma_ascendente(n):\n",
    "    suma = 0.0\n",
    "    for i in range(1, n + 1):\n",
    "        term = 1.0 / (i ** 3)\n",
    "        term = round_to_3_digits(term)\n",
    "        suma += term\n",
    "        suma = round_to_3_digits(suma)\n",
    "    return suma\n",
    "\n",
    "def suma_descendente(n):\n",
    "    suma = 0.0\n",
    "    for i in range(n, 0, -1):\n",
    "        term = 1.0 / (i ** 3)\n",
    "        term = round_to_3_digits(term)\n",
    "        suma += term\n",
    "        suma = round_to_3_digits(suma)\n",
    "    return suma\n",
    "\n",
    "# Ejemplo para n = 10\n",
    "n = 10\n",
    "print(\"Suma ascendente:\", suma_ascendente(n))\n",
    "print(\"Suma descendente:\", suma_descendente(n))\n"
   ]
  },
  {
   "cell_type": "markdown",
   "id": "00f2b3c4",
   "metadata": {},
   "source": [
    "### 2. La serie de Maclaurin para la función arctangente converge para -1 $\\leq x \\leq 1$ y está dada por\n",
    "\n",
    "$ \\arctan x = \\lim_{n \\to \\infty} P_n(x) = \\lim_{n \\to \\infty} \\sum_{i=1}^{n} (-1)^{i+1} \\frac{x^{2i-1}}{2i-1} $\n",
    "    \n",
    "Utilice el hecho de que $\\tan \\frac{\\pi}{4} = 1$ para determinar el número $(n)$ de términos de la serie que se necesita sumar para garantizar que $|4P_n(1) - \\pi| < 10^{-3}$\n",
    "        \\item El lenguaje de programación C++ requiere que el valor de $pi$ se encuentre dentro de $10^{-10}$. ¿Cuántos términos de la serie se necesitarían sumar para obtener este grado de precisión?"
   ]
  },
  {
   "cell_type": "markdown",
   "id": "b0a7429e",
   "metadata": {},
   "source": [
    "### Pseudocódigo a\n"
   ]
  },
  {
   "cell_type": "markdown",
   "id": "c4d59ea6",
   "metadata": {},
   "source": [
    "**Entrada:** Tolerancia ε = 10⁻³  \n",
    "**Salida:** n\n",
    "\n",
    "Paso 1: n = 1, Suma = 0  \n",
    "Paso 2: Repetir  \n",
    "    Término = ((-1)^(n+1)) * (1)^(2n-1) / (2n - 1)  \n",
    "    Suma = Suma + Término  \n",
    "    n = n + 1  \n",
    "    Error = |4*Suma - π|  \n",
    "Mientras Error ≥ 10⁻³  \n",
    "Paso 3: SALIDA n\n"
   ]
  },
  {
   "cell_type": "markdown",
   "id": "0f9d836e",
   "metadata": {},
   "source": [
    "### Pseudocódigo b"
   ]
  },
  {
   "cell_type": "markdown",
   "id": "e1cb9753",
   "metadata": {},
   "source": [
    "**Entrada:** Tolerancia ε = 10⁻¹⁰  \n",
    "**Salida:** n\n",
    "\n",
    "(Similar al anterior, solo cambia la tolerancia)\n",
    "\n",
    "Paso 1: n = 1, Suma = 0  \n",
    "Paso 2: Repetir  \n",
    "    Término = ((-1)^(n+1)) * (1)^(2n-1) / (2n - 1)  \n",
    "    Suma = Suma + Término  \n",
    "    n = n + 1  \n",
    "    Error = |4*Suma - π|  \n",
    "Mientras Error ≥ 10⁻¹⁰  \n",
    "Paso 3: SALIDA n\n"
   ]
  },
  {
   "cell_type": "markdown",
   "id": "09fe79ea",
   "metadata": {},
   "source": [
    "### Código en PYTHON"
   ]
  },
  {
   "cell_type": "code",
   "execution_count": 3,
   "id": "6f6d3a66",
   "metadata": {},
   "outputs": [
    {
     "name": "stdout",
     "output_type": "stream",
     "text": [
      "Número de términos para precisión 10^-3: 1000\n",
      "Se omitio la impresión de 1E -10 por el exceso de cálculos\n"
     ]
    }
   ],
   "source": [
    "import math\n",
    "\n",
    "def arctan_series(x, n):\n",
    "    suma = 0.0\n",
    "    for i in range(1, n + 1):\n",
    "        term = ((-1) ** (i + 1)) * (x ** (2 * i - 1)) / (2 * i - 1)\n",
    "        suma += term\n",
    "    return suma\n",
    "\n",
    "def encontrar_n_para_precision(x, precision_deseada):\n",
    "    n = 1\n",
    "    while True:\n",
    "        aproximacion = 4 * arctan_series(x, n)\n",
    "        error = abs(aproximacion - math.pi)\n",
    "        if error < precision_deseada:\n",
    "            return n\n",
    "        else:\n",
    "            n += 1\n",
    "\n",
    "# Parte (a): Precisión 10^-3\n",
    "n_para_10_3 = encontrar_n_para_precision(1, 1e-3)\n",
    "print(f\"Número de términos para precisión 10^-3: {n_para_10_3}\")\n",
    "print(\"Se omitio la impresión de 1E -10 por el exceso de cálculos\")\n",
    "# Parte (b): Precisión 10^-10\n",
    "# n_para_10_10 = encontrar_n_para_precision(1, 1e-10)\n",
    "# print(f\"Número de términos para precisión 10^-10: {n_para_10_10}\")"
   ]
  },
  {
   "cell_type": "markdown",
   "id": "79877c04",
   "metadata": {},
   "source": [
    "### 3. Otra fórmula para calcular $\\pi$ se puede deducir a partir de la identidad $\\frac{\\pi}{4}=4\\arctan\\frac{1}{5}-\\arctan\\frac{1}{239}$. Determine el número de términos que se deben sumar para garantizar una aproximación $\\pi$ dentro de $10^{-3}$"
   ]
  },
  {
   "cell_type": "markdown",
   "id": "8d4ccbf7",
   "metadata": {},
   "source": [
    "**Entrada:** Tolerancia ε = 10⁻³  \n",
    "**Salida:** n\n",
    "\n",
    "Paso 1: Suma = 0, n = 0  \n",
    "Paso 2: Repetir  \n",
    "    Término1 = ((-1)^n * (1/5)^(2n+1)) / (2n+1)  \n",
    "    Término2 = ((-1)^n * (1/239)^(2n+1)) / (2n+1)  \n",
    "    Suma = Suma + 4*Término1 - Término2  \n",
    "    n = n + 1  \n",
    "    Error = |4*Suma - π|  \n",
    "Mientras Error ≥ 10⁻³  \n",
    "Paso 3: SALIDA n\n",
    "\n"
   ]
  },
  {
   "cell_type": "markdown",
   "id": "a361daae",
   "metadata": {},
   "source": [
    "### Código en PYTHON"
   ]
  },
  {
   "cell_type": "code",
   "execution_count": 4,
   "id": "2459c2d2",
   "metadata": {},
   "outputs": [
    {
     "name": "stdout",
     "output_type": "stream",
     "text": [
      "Número de términos necesarios para precisión 10^-3: 2\n",
      "Aproximación de π con 2 términos: 3.1405970293260603\n",
      "Valor real de π: 3.141592653589793\n",
      "Error: 0.0009956242637327861\n"
     ]
    }
   ],
   "source": [
    "import math\n",
    "\n",
    "def arctan_series(x, n):\n",
    "    \"\"\"\n",
    "    Aproxima arctan(x) usando n términos de la serie de Maclaurin.\n",
    "    \"\"\"\n",
    "    result = 0\n",
    "    for i in range(n):\n",
    "        term = ((-1) ** i) * (x ** (2 * i + 1)) / (2 * i + 1)\n",
    "        result += term\n",
    "    return result\n",
    "\n",
    "def machin_pi(n):\n",
    "    \"\"\"\n",
    "    Calcula una aproximación de π usando n términos de la fórmula de Machin:\n",
    "    π ≈ 4 * (4 * arctan(1/5) - arctan(1/239))\n",
    "    \"\"\"\n",
    "    arctan_1_5 = arctan_series(1/5, n)\n",
    "    arctan_1_239 = arctan_series(1/239, n)\n",
    "    pi_approx = 4 * (4 * arctan_1_5 - arctan_1_239)\n",
    "    return pi_approx\n",
    "\n",
    "# Usamos n = 2 como en tu ejemplo\n",
    "n = 2\n",
    "approx = machin_pi(n)\n",
    "real_pi = math.pi\n",
    "error = abs(approx - real_pi)\n",
    "\n",
    "# Impresión del resultado\n",
    "print(f\"Número de términos necesarios para precisión 10^-3: {n}\")\n",
    "print(f\"Aproximación de π con {n} términos: {approx}\")\n",
    "print(f\"Valor real de π: {real_pi}\")\n",
    "print(f\"Error: {error}\")\n"
   ]
  },
  {
   "cell_type": "markdown",
   "id": "6db66472",
   "metadata": {},
   "source": [
    "### 4. Compare los siguientes tres algoritmos. ¿Cuándo es correcto el algoritmo de la parte 1a?\n",
    "(a) ENTRADA n, x1, x2, ..., xn.<br>\n",
    "SALIDA PRODUCT.<br>\n",
    "        Paso 1 Determine PRODUCT = 0.<br>\n",
    "        Paso 2 Para i = 1, 2, ..., n haga<br>\n",
    "            Determine PRODUCT = PRODUCT * xi.<br>\n",
    "        Paso 3 SALIDA PRODUCT;<br>\n",
    "        PARE.<br>\n",
    "\n",
    "(b) ENTRADA n, x1, x2, ..., xn. <br>\n",
    "        SALIDA PRODUCT.<br>\n",
    "        Paso 1 Determine PRODUCT = 1.<br>\n",
    "        Paso 2 Para i = 1, 2, ..., n haga<br>\n",
    "            Si xi $\\neq 0$ entonces determine PRODUCT =0;<br>\n",
    "            PARE;<br>\n",
    "            Sino determine<br>\n",
    "                Determine PRODUCT = PRODUCT * xi.<br>\n",
    "        Paso 3 SALIDA PRODUCT;<br>\n",
    "        PARE.<br>    \n",
    "(c) ENTRADA n, x1, x2, ..., xn.<br>\n",
    "        SALIDA PRODUCT.<br>\n",
    "        Paso 1 Determine PRODUCT = 1.<br>\n",
    "        Paso 2 Para i = 1, ..., n haga<br>\n",
    "        Determine PRODUCT = PRODUCT * xi.<br>\n",
    "        Paso 3 SALIDA PRODUCT;<br>\n",
    "        PARE.<br>"
   ]
  },
  {
   "cell_type": "markdown",
   "id": "bc847b90",
   "metadata": {},
   "source": [
    "### Pseudocódigo a\n",
    "**Entrada:** n, x₁, x₂, ..., xₙ  \n",
    "**Salida:** PRODUCT  \n",
    "\n",
    "Paso 1: Determine PRODUCT = 0  \n",
    "Paso 2: Para i = 1, 2, ..., n haga  \n",
    "    PRODUCT = PRODUCT * xᵢ  \n",
    "Paso 3: SALIDA PRODUCT  \n",
    "PARE\n"
   ]
  },
  {
   "cell_type": "markdown",
   "id": "7c542a9f",
   "metadata": {},
   "source": [
    "### Pseudocódigo b\n",
    "**Entrada:** n, x₁, x₂, ..., xₙ  \n",
    "**Salida:** PRODUCT  \n",
    "\n",
    "Paso 1: Determine PRODUCT = 1  \n",
    "Paso 2: Para i = 1, 2, ..., n haga  \n",
    "    PRODUCT = PRODUCT * xᵢ  \n",
    "Paso 3: SALIDA PRODUCT  \n",
    "PARE\n"
   ]
  },
  {
   "cell_type": "markdown",
   "id": "986323d6",
   "metadata": {},
   "source": [
    "### Pseudocódigo c\n",
    "**Entrada:** n, x₁, x₂, ..., xₙ  \n",
    "**Salida:** PRODUCT  \n",
    "\n",
    "Paso 1: Determine PRODUCT = 1  \n",
    "Paso 2: Para i = 1, 2, ..., n haga  \n",
    "    Si xᵢ = 0 entonces  \n",
    "      PRODUCT = 0  \n",
    "      SALIDA PRODUCT  \n",
    "      PARE  \n",
    "    PRODUCT = PRODUCT * xᵢ  \n",
    "Paso 3: SALIDA PRODUCT  \n",
    "PARE\n"
   ]
  },
  {
   "cell_type": "markdown",
   "id": "a1f44efe",
   "metadata": {},
   "source": [
    "### Código en PYTHON"
   ]
  },
  {
   "cell_type": "code",
   "execution_count": 5,
   "id": "7d2cb3fc",
   "metadata": {},
   "outputs": [
    {
     "name": "stdout",
     "output_type": "stream",
     "text": [
      "1a: 0\n",
      "1b: 0\n",
      "1c: 24\n"
     ]
    }
   ],
   "source": [
    "def algoritmo_1a(xs):\n",
    "    product = 0\n",
    "    for x in xs:\n",
    "        product *= x\n",
    "    return product\n",
    "\n",
    "def algoritmo_1b(xs):\n",
    "    product = 1\n",
    "    for x in xs:\n",
    "        if x != 0:\n",
    "            product = 0\n",
    "            break\n",
    "        product *= x\n",
    "    return product\n",
    "\n",
    "def algoritmo_1c(xs):\n",
    "    product = 1\n",
    "    for x in xs:\n",
    "        product *= x\n",
    "    return product\n",
    "\n",
    "# Ejemplos de uso\n",
    "nums = [2, 3, 4]\n",
    "print(\"1a:\", algoritmo_1a(nums))  # Siempre devuelve 0 es correcto cuando es 0\n",
    "print(\"1b:\", algoritmo_1b(nums))  # Comportamiento extraño\n",
    "print(\"1c:\", algoritmo_1c(nums))  # Correcto: 24"
   ]
  },
  {
   "cell_type": "markdown",
   "id": "e9601062",
   "metadata": {},
   "source": [
    "### 5. a) ¿Cuántas multiplicaciones y sumas se requieren para determinar una suma de la forma $\\sum_{i=1}^n \\sum_{j=1}^ia_ib_j$?.\n",
    "### b. Modifique la suma en la parte a) a un formato equivalente que reduzca el número de cálculos."
   ]
  },
  {
   "cell_type": "markdown",
   "id": "4717a55b",
   "metadata": {},
   "source": [
    "### Pseudocódigo a"
   ]
  },
  {
   "cell_type": "markdown",
   "id": "f5b9a7d6",
   "metadata": {},
   "source": [
    "**Entrada:** n  \n",
    "**Salida:** Número de multiplicaciones y sumas\n",
    "\n",
    "Paso 1: Multiplicaciones = n * n  \n",
    "Paso 2: Sumas = n * n - 1  \n",
    "Paso 3: SALIDA Multiplicaciones, Sumas  \n",
    "PARE\n"
   ]
  },
  {
   "cell_type": "markdown",
   "id": "1fcf3288",
   "metadata": {},
   "source": [
    "### Pseudocódigo b"
   ]
  },
  {
   "cell_type": "markdown",
   "id": "281ee80c",
   "metadata": {},
   "source": [
    "**Entrada:** a₁,...,aₙ ; b₁,...,bₙ  \n",
    "**Salida:** Resultado con menos operaciones\n",
    "\n",
    "Paso 1: Calcular Suma_b = b₁ + b₂ + ... + bₙ  \n",
    "Paso 2: Resultado = 0  \n",
    "Paso 3: Para i = 1 hasta n hacer  \n",
    "    Resultado = Resultado + aᵢ * Suma_b  \n",
    "Paso 4: SALIDA Resultado\n"
   ]
  },
  {
   "cell_type": "markdown",
   "id": "77aa2c2d",
   "metadata": {},
   "source": [
    "### Código en PYTHON"
   ]
  },
  {
   "cell_type": "code",
   "execution_count": 6,
   "id": "20cab648",
   "metadata": {},
   "outputs": [
    {
     "name": "stdout",
     "output_type": "stream",
     "text": [
      "Parte a) Resultado: 30\n",
      "Multiplicaciones: 10\n",
      "Sumas: 9\n"
     ]
    }
   ],
   "source": [
    "def suma_doble_parte_a(a, b):\n",
    "    n = len(a)\n",
    "    suma_total = 0\n",
    "    multiplicaciones = 0\n",
    "    sumas = 0\n",
    "    for i in range(n):\n",
    "        for j in range(i+1):\n",
    "            suma_total += a[i] * b[j]\n",
    "            multiplicaciones += 1\n",
    "            if multiplicaciones > 1:\n",
    "                sumas += 1\n",
    "    return suma_total, multiplicaciones, sumas\n",
    "\n",
    "# Ejemplo\n",
    "a = [1, 2, 3, 4]\n",
    "b = [1, 1, 1, 1]\n",
    "\n",
    "resultado, mults, sums = suma_doble_parte_a(a, b)\n",
    "print(f\"Parte a) Resultado: {resultado}\")\n",
    "print(f\"Multiplicaciones: {mults}\")\n",
    "print(f\"Sumas: {sums}\")\n"
   ]
  },
  {
   "cell_type": "code",
   "execution_count": 7,
   "id": "b82ecbba",
   "metadata": {},
   "outputs": [
    {
     "name": "stdout",
     "output_type": "stream",
     "text": [
      "\n",
      "Parte b) Resultado optimizado: 30\n",
      "Multiplicaciones: 4\n",
      "Sumas: 6\n"
     ]
    }
   ],
   "source": [
    "def suma_reformulada_parte_b(a, b):\n",
    "    n = len(a)\n",
    "    suma_total = 0\n",
    "    multiplicaciones = 0\n",
    "    sumas = 0\n",
    "\n",
    "    # Precomputar sumas acumuladas desde i=j hasta n\n",
    "    suma_acumulada = [0] * n\n",
    "    suma_acumulada[-1] = a[-1]\n",
    "    for i in range(n-2, -1, -1):\n",
    "        suma_acumulada[i] = suma_acumulada[i+1] + a[i]\n",
    "        sumas += 1\n",
    "\n",
    "    for j in range(n):\n",
    "        suma_total += b[j] * suma_acumulada[j]\n",
    "        multiplicaciones += 1\n",
    "        if multiplicaciones > 1:\n",
    "            sumas += 1\n",
    "\n",
    "    return suma_total, multiplicaciones, sumas\n",
    "\n",
    "# Mismo ejemplo\n",
    "resultado_b, mults_b, sums_b = suma_reformulada_parte_b(a, b)\n",
    "print(f\"\\nParte b) Resultado optimizado: {resultado_b}\")\n",
    "print(f\"Multiplicaciones: {mults_b}\")\n",
    "print(f\"Sumas: {sums_b}\")\n"
   ]
  },
  {
   "cell_type": "markdown",
   "id": "13888fbd",
   "metadata": {},
   "source": [
    "# DISCUSIONES\n",
    "### 1. Escriba un algoritmo para sumar la serie finita $\\sum_{i=1}^{n} x_i$ en orden inverso."
   ]
  },
  {
   "cell_type": "markdown",
   "id": "6cc770d0",
   "metadata": {},
   "source": [
    "### Pseudocódigo \n",
    "**Entrada:** n, x₁, x₂, ..., xₙ  \n",
    "**Salida:** SUMA  \n",
    "\n",
    "Paso 1: Determine SUMA = 0  \n",
    "Paso 2: Para i = n, n-1, ..., 1 haga  \n",
    "    SUMA = SUMA + xᵢ  \n",
    "Paso 3: SALIDA SUMA  \n",
    "PARE\n"
   ]
  },
  {
   "cell_type": "markdown",
   "id": "f9c78296",
   "metadata": {},
   "source": [
    "### Código en PYTHON"
   ]
  },
  {
   "cell_type": "code",
   "execution_count": 8,
   "id": "1b6fadb0",
   "metadata": {},
   "outputs": [
    {
     "name": "stdout",
     "output_type": "stream",
     "text": [
      "Suma inversa: 15\n"
     ]
    }
   ],
   "source": [
    "def suma_inversa(x):\n",
    "    S = 0\n",
    "    for i in range(len(x) - 1, -1, -1):  # Itera desde el último índice hasta el primero\n",
    "        S += x[i]\n",
    "    return S\n",
    "\n",
    "# Ejemplo de uso\n",
    "if __name__ == \"__main__\":\n",
    "    x = [1, 2, 3, 4, 5]  # x1 = 1, x2 = 2, ..., x5 = 5\n",
    "    print(\"Suma inversa:\", suma_inversa(x))  # Devuelve 5 + 4 + 3 + 2 + 1 = 15"
   ]
  },
  {
   "cell_type": "markdown",
   "id": "11cd7f02",
   "metadata": {},
   "source": [
    "### 2. Las ecuaciones (1.2) y (1.3) en la sección 1.2 proporcionan formas alternativas para las raíces $x_1$ y $x_2$ de $ax^2 + bx + c = 0$. Construya un algoritmo con entrada $a, b, c$ y salida $x_1, x_2$, que calcule las raíces $x_1$ y $x_2$ (que pueden ser iguales o conjugados complejos) indicando la mejor fórmula para cada raíz."
   ]
  },
  {
   "cell_type": "markdown",
   "id": "bc5e338d",
   "metadata": {},
   "source": [
    "### Pseudocódigo\n",
    "**Entrada:** a, b, c  \n",
    "**Salida:** x₁, x₂  \n",
    "\n",
    "Paso 1: Calcular el discriminante D = b² - 4ac  \n",
    "Paso 2: Si D ≥ 0 entonces  \n",
    "    Si b ≥ 0 entonces  \n",
    "      x₁ = (-b - √D) / (2a)  \n",
    "      x₂ = (2c) / (-b - √D)  \n",
    "    Sino  \n",
    "      x₁ = (-b + √D) / (2a)  \n",
    "      x₂ = (2c) / (-b + √D)  \n",
    "Paso 3: Si D < 0 entonces  \n",
    "    Calcular parte real y parte imaginaria  \n",
    "    x₁ = (-b / (2a)) + i(√(-D) / (2a))  \n",
    "    x₂ = (-b / (2a)) - i(√(-D) / (2a))  \n",
    "Paso 4: SALIDA x₁, x₂  \n",
    "PARE\n"
   ]
  },
  {
   "cell_type": "markdown",
   "id": "b0dfc081",
   "metadata": {},
   "source": [
    "### Código en PYTHON\n"
   ]
  },
  {
   "cell_type": "code",
   "execution_count": 9,
   "id": "23dafd3e",
   "metadata": {},
   "outputs": [
    {
     "name": "stdout",
     "output_type": "stream",
     "text": [
      "Raíces: ((2+0j), (1+0j))\n"
     ]
    }
   ],
   "source": [
    "import cmath  # permite raíces complejas\n",
    "\n",
    "def resolver_cuadratica(a, b, c):\n",
    "    D = b**2 - 4*a*c\n",
    "    sqrt_D = cmath.sqrt(D)\n",
    "    \n",
    "    if D == 0:\n",
    "        x1 = x2 = -b / (2*a)\n",
    "    elif D > 0:\n",
    "        if b >= 0:\n",
    "            x1 = (-b - sqrt_D) / (2*a)\n",
    "            x2 = (2*c) / (-b - sqrt_D)\n",
    "        else:\n",
    "            x1 = (-b + sqrt_D) / (2*a)\n",
    "            x2 = (2*c) / (-b + sqrt_D)\n",
    "    else:\n",
    "        # Raíces complejas\n",
    "        x1 = (-b + sqrt_D) / (2*a)\n",
    "        x2 = (-b - sqrt_D) / (2*a)\n",
    "    \n",
    "    return x1, x2\n",
    "\n",
    "# Ejemplo:\n",
    "a, b, c = 1, -3, 2\n",
    "raices = resolver_cuadratica(a, b, c)\n",
    "print(\"Raíces:\", raices)"
   ]
  },
  {
   "cell_type": "markdown",
   "id": "c6de8230",
   "metadata": {},
   "source": [
    "### 3. Suponga que $\\frac{1-2x}{1+3x} + \\frac{2x-4x^2}{1+7x+3x^2} + \\frac{x^4-8x^7}{1+x+x^3} + \\cdots = \\frac{1+2x}{1+x+3x^2}$ para $ x < 1 $ y si $ x = 0.25$. Escriba y ejecute un algoritmo que determine el número de términos necesarios en el lado izquierdo de la ecuación de tal forma que el lado izquierdo difiera del lado derecho en menos de $10^{-6}$.\n"
   ]
  },
  {
   "cell_type": "markdown",
   "id": "f742ad38",
   "metadata": {},
   "source": [
    "### Pseudocódigo\n",
    "**Entrada:** x = 0.25  \n",
    "**Salida:** Número de términos necesarios  \n",
    "\n",
    "Paso 1: Determine Suma = 0, n = 0  \n",
    "Paso 2: Mientras |Suma - ((1 + 2x) / (1 + x + x²))| ≥ 10⁻⁶ haga  \n",
    "    Calcular término n  \n",
    "    Sumar el término al acumulador Suma  \n",
    "    Incrementar n  \n",
    "Paso 3: SALIDA n  \n",
    "PARE\n"
   ]
  },
  {
   "cell_type": "markdown",
   "id": "29ec0e94",
   "metadata": {},
   "source": [
    "### Código en PYTHON"
   ]
  },
  {
   "cell_type": "code",
   "execution_count": 10,
   "id": "ca3bd781",
   "metadata": {},
   "outputs": [
    {
     "name": "stdout",
     "output_type": "stream",
     "text": [
      "Término 1: 0.2857142857, Suma: 0.2857142857, Diferencia: 0.7577639752\n",
      "Término 2: 0.0851063830, Suma: 0.3708206687, Diferencia: 0.6726575922\n",
      "Término 3: 0.0027006173, Suma: 0.3735212860, Diferencia: 0.6699569749\n",
      "No hay patrón definido para términos más allá de k=3\n",
      "No se alcanzó la tolerancia con los primeros 10000 términos\n"
     ]
    }
   ],
   "source": [
    "def calcular_terminos_necesarios():\n",
    "    x = 0.25\n",
    "    tolerancia = 1e-6\n",
    "    max_terminos = 10000\n",
    "    suma_izquierda = 0.0\n",
    "    \n",
    "    # Valor del lado derecho\n",
    "    derecho = (1 + 2*x)/(1 + x + 3*x**2)\n",
    "    \n",
    "    for k in range(1, max_terminos + 1):\n",
    "        if k == 1:\n",
    "            term = (1 - 2*x)/(1 + 3*x)\n",
    "        elif k == 2:\n",
    "            term = (2*x - 4*x**2)/(1 + 7*x + 3*x**2)\n",
    "        elif k == 3:\n",
    "            term = (x**4 - 8*x**7)/(1 + x + x**3)\n",
    "        else:\n",
    "            print(\"No hay patrón definido para términos más allá de k=3\")\n",
    "            break\n",
    "            \n",
    "        suma_izquierda += term\n",
    "        diferencia = abs(suma_izquierda - derecho)\n",
    "        \n",
    "        print(f\"Término {k}: {term:.10f}, Suma: {suma_izquierda:.10f}, Diferencia: {diferencia:.10f}\")\n",
    "        \n",
    "        if diferencia < tolerancia:\n",
    "            print(f\"\\nSe alcanzó la tolerancia con {k} términos\")\n",
    "            print(f\"Valor final: {suma_izquierda:.10f}\")\n",
    "            print(f\"Valor derecho: {derecho:.10f}\")\n",
    "            print(f\"Diferencia: {diferencia:.10f}\")\n",
    "            return\n",
    "            \n",
    "    print(\"No se alcanzó la tolerancia con los primeros\", max_terminos, \"términos\")\n",
    "\n",
    "calcular_terminos_necesarios()\n"
   ]
  }
 ],
 "metadata": {
  "kernelspec": {
   "display_name": "base",
   "language": "python",
   "name": "python3"
  },
  "language_info": {
   "codemirror_mode": {
    "name": "ipython",
    "version": 3
   },
   "file_extension": ".py",
   "mimetype": "text/x-python",
   "name": "python",
   "nbconvert_exporter": "python",
   "pygments_lexer": "ipython3",
   "version": "3.12.7"
  }
 },
 "nbformat": 4,
 "nbformat_minor": 5
}
